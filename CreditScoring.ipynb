{
  "nbformat": 4,
  "nbformat_minor": 0,
  "metadata": {
    "colab": {
      "name": "CreditScoring.ipynb",
      "provenance": [],
      "collapsed_sections": [],
      "mount_file_id": "1lSyghr2A1sok-QbY2cmvyqAd9Q5FeDCy",
      "authorship_tag": "ABX9TyOK6pTyGnePQr5p+rcGq51r",
      "include_colab_link": true
    },
    "kernelspec": {
      "name": "python3",
      "display_name": "Python 3"
    },
    "language_info": {
      "name": "python"
    }
  },
  "cells": [
    {
      "cell_type": "markdown",
      "metadata": {
        "id": "view-in-github",
        "colab_type": "text"
      },
      "source": [
        "<a href=\"https://colab.research.google.com/github/sanae-a11y/AI/blob/main/CreditScoring.ipynb\" target=\"_parent\"><img src=\"https://colab.research.google.com/assets/colab-badge.svg\" alt=\"Open In Colab\"/></a>"
      ]
    },
    {
      "cell_type": "markdown",
      "source": [
        "# **Credit Scoring Application - Decision tree learning**\n",
        "![download.png](data:image/png;base64,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)\n",
        "\n",
        " \n",
        "\n",
        "\n",
        "---\n",
        "\n",
        "---\n",
        " \n",
        "\n"
      ],
      "metadata": {
        "id": "uR9jPYw_C_CO"
      }
    },
    {
      "cell_type": "markdown",
      "source": [
        "**Importing the librairies**\n"
      ],
      "metadata": {
        "id": "4fdkJu6fYwLt"
      }
    },
    {
      "cell_type": "code",
      "execution_count": 328,
      "metadata": {
        "id": "2A5WYvrsSNbD"
      },
      "outputs": [],
      "source": [
        "import matplotlib.pyplot as plt\n",
        "from numpy import *\n",
        "import pandas as pd"
      ]
    },
    {
      "cell_type": "markdown",
      "source": [
        "**Import the dataset**"
      ],
      "metadata": {
        "id": "zozcvu7u_-8_"
      }
    },
    {
      "cell_type": "code",
      "source": [
        "file = pd.read_csv(\"CreditScoring.csv\")"
      ],
      "metadata": {
        "id": "WIJrZMsVShRG"
      },
      "execution_count": 329,
      "outputs": []
    },
    {
      "cell_type": "markdown",
      "source": [
        "**Understanding the data**"
      ],
      "metadata": {
        "id": "NWuHaJwIBv1v"
      }
    },
    {
      "cell_type": "code",
      "source": [
        "file.head(5)"
      ],
      "metadata": {
        "colab": {
          "base_uri": "https://localhost:8080/",
          "height": 206
        },
        "id": "yf1P1bn3SuAL",
        "outputId": "5528a127-831c-457b-b75a-08a05510fd56"
      },
      "execution_count": 330,
      "outputs": [
        {
          "output_type": "execute_result",
          "data": {
            "text/plain": [
              "   BAD  LOAN  MORTDUE     VALUE   REASON     JOB   YOJ  DEROG  DELINQ  \\\n",
              "0    1  1100  25860.0   39025.0  HomeImp   Other  10.5    0.0     0.0   \n",
              "1    1  1300  70053.0   68400.0  HomeImp   Other   7.0    0.0     2.0   \n",
              "2    1  1500  13500.0   16700.0  HomeImp   Other   4.0    0.0     0.0   \n",
              "3    1  1500      NaN       NaN      NaN     NaN   NaN    NaN     NaN   \n",
              "4    0  1700  97800.0  112000.0  HomeImp  Office   3.0    0.0     0.0   \n",
              "\n",
              "        CLAGE  NINQ  CLNO  DEBTINC  \n",
              "0   94.366667   1.0   9.0      NaN  \n",
              "1  121.833333   0.0  14.0      NaN  \n",
              "2  149.466667   1.0  10.0      NaN  \n",
              "3         NaN   NaN   NaN      NaN  \n",
              "4   93.333333   0.0  14.0      NaN  "
            ],
            "text/html": [
              "\n",
              "  <div id=\"df-e5fa11b3-013f-4853-bc1b-639c92aec61c\">\n",
              "    <div class=\"colab-df-container\">\n",
              "      <div>\n",
              "<style scoped>\n",
              "    .dataframe tbody tr th:only-of-type {\n",
              "        vertical-align: middle;\n",
              "    }\n",
              "\n",
              "    .dataframe tbody tr th {\n",
              "        vertical-align: top;\n",
              "    }\n",
              "\n",
              "    .dataframe thead th {\n",
              "        text-align: right;\n",
              "    }\n",
              "</style>\n",
              "<table border=\"1\" class=\"dataframe\">\n",
              "  <thead>\n",
              "    <tr style=\"text-align: right;\">\n",
              "      <th></th>\n",
              "      <th>BAD</th>\n",
              "      <th>LOAN</th>\n",
              "      <th>MORTDUE</th>\n",
              "      <th>VALUE</th>\n",
              "      <th>REASON</th>\n",
              "      <th>JOB</th>\n",
              "      <th>YOJ</th>\n",
              "      <th>DEROG</th>\n",
              "      <th>DELINQ</th>\n",
              "      <th>CLAGE</th>\n",
              "      <th>NINQ</th>\n",
              "      <th>CLNO</th>\n",
              "      <th>DEBTINC</th>\n",
              "    </tr>\n",
              "  </thead>\n",
              "  <tbody>\n",
              "    <tr>\n",
              "      <th>0</th>\n",
              "      <td>1</td>\n",
              "      <td>1100</td>\n",
              "      <td>25860.0</td>\n",
              "      <td>39025.0</td>\n",
              "      <td>HomeImp</td>\n",
              "      <td>Other</td>\n",
              "      <td>10.5</td>\n",
              "      <td>0.0</td>\n",
              "      <td>0.0</td>\n",
              "      <td>94.366667</td>\n",
              "      <td>1.0</td>\n",
              "      <td>9.0</td>\n",
              "      <td>NaN</td>\n",
              "    </tr>\n",
              "    <tr>\n",
              "      <th>1</th>\n",
              "      <td>1</td>\n",
              "      <td>1300</td>\n",
              "      <td>70053.0</td>\n",
              "      <td>68400.0</td>\n",
              "      <td>HomeImp</td>\n",
              "      <td>Other</td>\n",
              "      <td>7.0</td>\n",
              "      <td>0.0</td>\n",
              "      <td>2.0</td>\n",
              "      <td>121.833333</td>\n",
              "      <td>0.0</td>\n",
              "      <td>14.0</td>\n",
              "      <td>NaN</td>\n",
              "    </tr>\n",
              "    <tr>\n",
              "      <th>2</th>\n",
              "      <td>1</td>\n",
              "      <td>1500</td>\n",
              "      <td>13500.0</td>\n",
              "      <td>16700.0</td>\n",
              "      <td>HomeImp</td>\n",
              "      <td>Other</td>\n",
              "      <td>4.0</td>\n",
              "      <td>0.0</td>\n",
              "      <td>0.0</td>\n",
              "      <td>149.466667</td>\n",
              "      <td>1.0</td>\n",
              "      <td>10.0</td>\n",
              "      <td>NaN</td>\n",
              "    </tr>\n",
              "    <tr>\n",
              "      <th>3</th>\n",
              "      <td>1</td>\n",
              "      <td>1500</td>\n",
              "      <td>NaN</td>\n",
              "      <td>NaN</td>\n",
              "      <td>NaN</td>\n",
              "      <td>NaN</td>\n",
              "      <td>NaN</td>\n",
              "      <td>NaN</td>\n",
              "      <td>NaN</td>\n",
              "      <td>NaN</td>\n",
              "      <td>NaN</td>\n",
              "      <td>NaN</td>\n",
              "      <td>NaN</td>\n",
              "    </tr>\n",
              "    <tr>\n",
              "      <th>4</th>\n",
              "      <td>0</td>\n",
              "      <td>1700</td>\n",
              "      <td>97800.0</td>\n",
              "      <td>112000.0</td>\n",
              "      <td>HomeImp</td>\n",
              "      <td>Office</td>\n",
              "      <td>3.0</td>\n",
              "      <td>0.0</td>\n",
              "      <td>0.0</td>\n",
              "      <td>93.333333</td>\n",
              "      <td>0.0</td>\n",
              "      <td>14.0</td>\n",
              "      <td>NaN</td>\n",
              "    </tr>\n",
              "  </tbody>\n",
              "</table>\n",
              "</div>\n",
              "      <button class=\"colab-df-convert\" onclick=\"convertToInteractive('df-e5fa11b3-013f-4853-bc1b-639c92aec61c')\"\n",
              "              title=\"Convert this dataframe to an interactive table.\"\n",
              "              style=\"display:none;\">\n",
              "        \n",
              "  <svg xmlns=\"http://www.w3.org/2000/svg\" height=\"24px\"viewBox=\"0 0 24 24\"\n",
              "       width=\"24px\">\n",
              "    <path d=\"M0 0h24v24H0V0z\" fill=\"none\"/>\n",
              "    <path d=\"M18.56 5.44l.94 2.06.94-2.06 2.06-.94-2.06-.94-.94-2.06-.94 2.06-2.06.94zm-11 1L8.5 8.5l.94-2.06 2.06-.94-2.06-.94L8.5 2.5l-.94 2.06-2.06.94zm10 10l.94 2.06.94-2.06 2.06-.94-2.06-.94-.94-2.06-.94 2.06-2.06.94z\"/><path d=\"M17.41 7.96l-1.37-1.37c-.4-.4-.92-.59-1.43-.59-.52 0-1.04.2-1.43.59L10.3 9.45l-7.72 7.72c-.78.78-.78 2.05 0 2.83L4 21.41c.39.39.9.59 1.41.59.51 0 1.02-.2 1.41-.59l7.78-7.78 2.81-2.81c.8-.78.8-2.07 0-2.86zM5.41 20L4 18.59l7.72-7.72 1.47 1.35L5.41 20z\"/>\n",
              "  </svg>\n",
              "      </button>\n",
              "      \n",
              "  <style>\n",
              "    .colab-df-container {\n",
              "      display:flex;\n",
              "      flex-wrap:wrap;\n",
              "      gap: 12px;\n",
              "    }\n",
              "\n",
              "    .colab-df-convert {\n",
              "      background-color: #E8F0FE;\n",
              "      border: none;\n",
              "      border-radius: 50%;\n",
              "      cursor: pointer;\n",
              "      display: none;\n",
              "      fill: #1967D2;\n",
              "      height: 32px;\n",
              "      padding: 0 0 0 0;\n",
              "      width: 32px;\n",
              "    }\n",
              "\n",
              "    .colab-df-convert:hover {\n",
              "      background-color: #E2EBFA;\n",
              "      box-shadow: 0px 1px 2px rgba(60, 64, 67, 0.3), 0px 1px 3px 1px rgba(60, 64, 67, 0.15);\n",
              "      fill: #174EA6;\n",
              "    }\n",
              "\n",
              "    [theme=dark] .colab-df-convert {\n",
              "      background-color: #3B4455;\n",
              "      fill: #D2E3FC;\n",
              "    }\n",
              "\n",
              "    [theme=dark] .colab-df-convert:hover {\n",
              "      background-color: #434B5C;\n",
              "      box-shadow: 0px 1px 3px 1px rgba(0, 0, 0, 0.15);\n",
              "      filter: drop-shadow(0px 1px 2px rgba(0, 0, 0, 0.3));\n",
              "      fill: #FFFFFF;\n",
              "    }\n",
              "  </style>\n",
              "\n",
              "      <script>\n",
              "        const buttonEl =\n",
              "          document.querySelector('#df-e5fa11b3-013f-4853-bc1b-639c92aec61c button.colab-df-convert');\n",
              "        buttonEl.style.display =\n",
              "          google.colab.kernel.accessAllowed ? 'block' : 'none';\n",
              "\n",
              "        async function convertToInteractive(key) {\n",
              "          const element = document.querySelector('#df-e5fa11b3-013f-4853-bc1b-639c92aec61c');\n",
              "          const dataTable =\n",
              "            await google.colab.kernel.invokeFunction('convertToInteractive',\n",
              "                                                     [key], {});\n",
              "          if (!dataTable) return;\n",
              "\n",
              "          const docLinkHtml = 'Like what you see? Visit the ' +\n",
              "            '<a target=\"_blank\" href=https://colab.research.google.com/notebooks/data_table.ipynb>data table notebook</a>'\n",
              "            + ' to learn more about interactive tables.';\n",
              "          element.innerHTML = '';\n",
              "          dataTable['output_type'] = 'display_data';\n",
              "          await google.colab.output.renderOutput(dataTable, element);\n",
              "          const docLink = document.createElement('div');\n",
              "          docLink.innerHTML = docLinkHtml;\n",
              "          element.appendChild(docLink);\n",
              "        }\n",
              "      </script>\n",
              "    </div>\n",
              "  </div>\n",
              "  "
            ]
          },
          "metadata": {},
          "execution_count": 330
        }
      ]
    },
    {
      "cell_type": "code",
      "source": [
        "file.shape"
      ],
      "metadata": {
        "colab": {
          "base_uri": "https://localhost:8080/"
        },
        "id": "XSJb54K4YBSP",
        "outputId": "6de8ece6-cbe8-4313-b17d-c7638ef12a02"
      },
      "execution_count": 331,
      "outputs": [
        {
          "output_type": "execute_result",
          "data": {
            "text/plain": [
              "(5960, 13)"
            ]
          },
          "metadata": {},
          "execution_count": 331
        }
      ]
    },
    {
      "cell_type": "code",
      "source": [
        "data_types=file.dtypes #to print data types for each variable\n",
        "data_types"
      ],
      "metadata": {
        "colab": {
          "base_uri": "https://localhost:8080/"
        },
        "id": "SDsgjGxdZD1D",
        "outputId": "d469d35f-5be7-4d38-ea06-05013202b0ea"
      },
      "execution_count": 332,
      "outputs": [
        {
          "output_type": "execute_result",
          "data": {
            "text/plain": [
              "BAD          int64\n",
              "LOAN         int64\n",
              "MORTDUE    float64\n",
              "VALUE      float64\n",
              "REASON      object\n",
              "JOB         object\n",
              "YOJ        float64\n",
              "DEROG      float64\n",
              "DELINQ     float64\n",
              "CLAGE      float64\n",
              "NINQ       float64\n",
              "CLNO       float64\n",
              "DEBTINC    float64\n",
              "dtype: object"
            ]
          },
          "metadata": {},
          "execution_count": 332
        }
      ]
    },
    {
      "cell_type": "code",
      "source": [
        "#descriptive statistics\n",
        "description= file.describe(include='all') # to get the basic summary of all the numeric columns and frequency distribution of all the categorical columns.\n",
        "description\n"
      ],
      "metadata": {
        "colab": {
          "base_uri": "https://localhost:8080/",
          "height": 458
        },
        "id": "iy-bkMMHB5uE",
        "outputId": "2fdda130-136c-4ecb-af31-114bf17d6510"
      },
      "execution_count": 333,
      "outputs": [
        {
          "output_type": "execute_result",
          "data": {
            "text/plain": [
              "                BAD          LOAN        MORTDUE          VALUE   REASON  \\\n",
              "count   5960.000000   5960.000000    5442.000000    5848.000000     5708   \n",
              "unique          NaN           NaN            NaN            NaN        2   \n",
              "top             NaN           NaN            NaN            NaN  DebtCon   \n",
              "freq            NaN           NaN            NaN            NaN     3928   \n",
              "mean       0.199497  18607.969799   73760.817200  101776.048741      NaN   \n",
              "std        0.399656  11207.480417   44457.609458   57385.775334      NaN   \n",
              "min        0.000000   1100.000000    2063.000000    8000.000000      NaN   \n",
              "25%        0.000000  11100.000000   46276.000000   66075.500000      NaN   \n",
              "50%        0.000000  16300.000000   65019.000000   89235.500000      NaN   \n",
              "75%        0.000000  23300.000000   91488.000000  119824.250000      NaN   \n",
              "max        1.000000  89900.000000  399550.000000  855909.000000      NaN   \n",
              "\n",
              "          JOB          YOJ        DEROG       DELINQ        CLAGE  \\\n",
              "count    5681  5445.000000  5252.000000  5380.000000  5652.000000   \n",
              "unique      6          NaN          NaN          NaN          NaN   \n",
              "top     Other          NaN          NaN          NaN          NaN   \n",
              "freq     2388          NaN          NaN          NaN          NaN   \n",
              "mean      NaN     8.922268     0.254570     0.449442   179.766275   \n",
              "std       NaN     7.573982     0.846047     1.127266    85.810092   \n",
              "min       NaN     0.000000     0.000000     0.000000     0.000000   \n",
              "25%       NaN     3.000000     0.000000     0.000000   115.116702   \n",
              "50%       NaN     7.000000     0.000000     0.000000   173.466667   \n",
              "75%       NaN    13.000000     0.000000     0.000000   231.562278   \n",
              "max       NaN    41.000000    10.000000    15.000000  1168.233561   \n",
              "\n",
              "               NINQ         CLNO      DEBTINC  \n",
              "count   5450.000000  5738.000000  4693.000000  \n",
              "unique          NaN          NaN          NaN  \n",
              "top             NaN          NaN          NaN  \n",
              "freq            NaN          NaN          NaN  \n",
              "mean       1.186055    21.296096    33.779915  \n",
              "std        1.728675    10.138933     8.601746  \n",
              "min        0.000000     0.000000     0.524499  \n",
              "25%        0.000000    15.000000    29.140031  \n",
              "50%        1.000000    20.000000    34.818262  \n",
              "75%        2.000000    26.000000    39.003141  \n",
              "max       17.000000    71.000000   203.312149  "
            ],
            "text/html": [
              "\n",
              "  <div id=\"df-c924b012-0441-49a2-a8ce-bdb0c6d103f0\">\n",
              "    <div class=\"colab-df-container\">\n",
              "      <div>\n",
              "<style scoped>\n",
              "    .dataframe tbody tr th:only-of-type {\n",
              "        vertical-align: middle;\n",
              "    }\n",
              "\n",
              "    .dataframe tbody tr th {\n",
              "        vertical-align: top;\n",
              "    }\n",
              "\n",
              "    .dataframe thead th {\n",
              "        text-align: right;\n",
              "    }\n",
              "</style>\n",
              "<table border=\"1\" class=\"dataframe\">\n",
              "  <thead>\n",
              "    <tr style=\"text-align: right;\">\n",
              "      <th></th>\n",
              "      <th>BAD</th>\n",
              "      <th>LOAN</th>\n",
              "      <th>MORTDUE</th>\n",
              "      <th>VALUE</th>\n",
              "      <th>REASON</th>\n",
              "      <th>JOB</th>\n",
              "      <th>YOJ</th>\n",
              "      <th>DEROG</th>\n",
              "      <th>DELINQ</th>\n",
              "      <th>CLAGE</th>\n",
              "      <th>NINQ</th>\n",
              "      <th>CLNO</th>\n",
              "      <th>DEBTINC</th>\n",
              "    </tr>\n",
              "  </thead>\n",
              "  <tbody>\n",
              "    <tr>\n",
              "      <th>count</th>\n",
              "      <td>5960.000000</td>\n",
              "      <td>5960.000000</td>\n",
              "      <td>5442.000000</td>\n",
              "      <td>5848.000000</td>\n",
              "      <td>5708</td>\n",
              "      <td>5681</td>\n",
              "      <td>5445.000000</td>\n",
              "      <td>5252.000000</td>\n",
              "      <td>5380.000000</td>\n",
              "      <td>5652.000000</td>\n",
              "      <td>5450.000000</td>\n",
              "      <td>5738.000000</td>\n",
              "      <td>4693.000000</td>\n",
              "    </tr>\n",
              "    <tr>\n",
              "      <th>unique</th>\n",
              "      <td>NaN</td>\n",
              "      <td>NaN</td>\n",
              "      <td>NaN</td>\n",
              "      <td>NaN</td>\n",
              "      <td>2</td>\n",
              "      <td>6</td>\n",
              "      <td>NaN</td>\n",
              "      <td>NaN</td>\n",
              "      <td>NaN</td>\n",
              "      <td>NaN</td>\n",
              "      <td>NaN</td>\n",
              "      <td>NaN</td>\n",
              "      <td>NaN</td>\n",
              "    </tr>\n",
              "    <tr>\n",
              "      <th>top</th>\n",
              "      <td>NaN</td>\n",
              "      <td>NaN</td>\n",
              "      <td>NaN</td>\n",
              "      <td>NaN</td>\n",
              "      <td>DebtCon</td>\n",
              "      <td>Other</td>\n",
              "      <td>NaN</td>\n",
              "      <td>NaN</td>\n",
              "      <td>NaN</td>\n",
              "      <td>NaN</td>\n",
              "      <td>NaN</td>\n",
              "      <td>NaN</td>\n",
              "      <td>NaN</td>\n",
              "    </tr>\n",
              "    <tr>\n",
              "      <th>freq</th>\n",
              "      <td>NaN</td>\n",
              "      <td>NaN</td>\n",
              "      <td>NaN</td>\n",
              "      <td>NaN</td>\n",
              "      <td>3928</td>\n",
              "      <td>2388</td>\n",
              "      <td>NaN</td>\n",
              "      <td>NaN</td>\n",
              "      <td>NaN</td>\n",
              "      <td>NaN</td>\n",
              "      <td>NaN</td>\n",
              "      <td>NaN</td>\n",
              "      <td>NaN</td>\n",
              "    </tr>\n",
              "    <tr>\n",
              "      <th>mean</th>\n",
              "      <td>0.199497</td>\n",
              "      <td>18607.969799</td>\n",
              "      <td>73760.817200</td>\n",
              "      <td>101776.048741</td>\n",
              "      <td>NaN</td>\n",
              "      <td>NaN</td>\n",
              "      <td>8.922268</td>\n",
              "      <td>0.254570</td>\n",
              "      <td>0.449442</td>\n",
              "      <td>179.766275</td>\n",
              "      <td>1.186055</td>\n",
              "      <td>21.296096</td>\n",
              "      <td>33.779915</td>\n",
              "    </tr>\n",
              "    <tr>\n",
              "      <th>std</th>\n",
              "      <td>0.399656</td>\n",
              "      <td>11207.480417</td>\n",
              "      <td>44457.609458</td>\n",
              "      <td>57385.775334</td>\n",
              "      <td>NaN</td>\n",
              "      <td>NaN</td>\n",
              "      <td>7.573982</td>\n",
              "      <td>0.846047</td>\n",
              "      <td>1.127266</td>\n",
              "      <td>85.810092</td>\n",
              "      <td>1.728675</td>\n",
              "      <td>10.138933</td>\n",
              "      <td>8.601746</td>\n",
              "    </tr>\n",
              "    <tr>\n",
              "      <th>min</th>\n",
              "      <td>0.000000</td>\n",
              "      <td>1100.000000</td>\n",
              "      <td>2063.000000</td>\n",
              "      <td>8000.000000</td>\n",
              "      <td>NaN</td>\n",
              "      <td>NaN</td>\n",
              "      <td>0.000000</td>\n",
              "      <td>0.000000</td>\n",
              "      <td>0.000000</td>\n",
              "      <td>0.000000</td>\n",
              "      <td>0.000000</td>\n",
              "      <td>0.000000</td>\n",
              "      <td>0.524499</td>\n",
              "    </tr>\n",
              "    <tr>\n",
              "      <th>25%</th>\n",
              "      <td>0.000000</td>\n",
              "      <td>11100.000000</td>\n",
              "      <td>46276.000000</td>\n",
              "      <td>66075.500000</td>\n",
              "      <td>NaN</td>\n",
              "      <td>NaN</td>\n",
              "      <td>3.000000</td>\n",
              "      <td>0.000000</td>\n",
              "      <td>0.000000</td>\n",
              "      <td>115.116702</td>\n",
              "      <td>0.000000</td>\n",
              "      <td>15.000000</td>\n",
              "      <td>29.140031</td>\n",
              "    </tr>\n",
              "    <tr>\n",
              "      <th>50%</th>\n",
              "      <td>0.000000</td>\n",
              "      <td>16300.000000</td>\n",
              "      <td>65019.000000</td>\n",
              "      <td>89235.500000</td>\n",
              "      <td>NaN</td>\n",
              "      <td>NaN</td>\n",
              "      <td>7.000000</td>\n",
              "      <td>0.000000</td>\n",
              "      <td>0.000000</td>\n",
              "      <td>173.466667</td>\n",
              "      <td>1.000000</td>\n",
              "      <td>20.000000</td>\n",
              "      <td>34.818262</td>\n",
              "    </tr>\n",
              "    <tr>\n",
              "      <th>75%</th>\n",
              "      <td>0.000000</td>\n",
              "      <td>23300.000000</td>\n",
              "      <td>91488.000000</td>\n",
              "      <td>119824.250000</td>\n",
              "      <td>NaN</td>\n",
              "      <td>NaN</td>\n",
              "      <td>13.000000</td>\n",
              "      <td>0.000000</td>\n",
              "      <td>0.000000</td>\n",
              "      <td>231.562278</td>\n",
              "      <td>2.000000</td>\n",
              "      <td>26.000000</td>\n",
              "      <td>39.003141</td>\n",
              "    </tr>\n",
              "    <tr>\n",
              "      <th>max</th>\n",
              "      <td>1.000000</td>\n",
              "      <td>89900.000000</td>\n",
              "      <td>399550.000000</td>\n",
              "      <td>855909.000000</td>\n",
              "      <td>NaN</td>\n",
              "      <td>NaN</td>\n",
              "      <td>41.000000</td>\n",
              "      <td>10.000000</td>\n",
              "      <td>15.000000</td>\n",
              "      <td>1168.233561</td>\n",
              "      <td>17.000000</td>\n",
              "      <td>71.000000</td>\n",
              "      <td>203.312149</td>\n",
              "    </tr>\n",
              "  </tbody>\n",
              "</table>\n",
              "</div>\n",
              "      <button class=\"colab-df-convert\" onclick=\"convertToInteractive('df-c924b012-0441-49a2-a8ce-bdb0c6d103f0')\"\n",
              "              title=\"Convert this dataframe to an interactive table.\"\n",
              "              style=\"display:none;\">\n",
              "        \n",
              "  <svg xmlns=\"http://www.w3.org/2000/svg\" height=\"24px\"viewBox=\"0 0 24 24\"\n",
              "       width=\"24px\">\n",
              "    <path d=\"M0 0h24v24H0V0z\" fill=\"none\"/>\n",
              "    <path d=\"M18.56 5.44l.94 2.06.94-2.06 2.06-.94-2.06-.94-.94-2.06-.94 2.06-2.06.94zm-11 1L8.5 8.5l.94-2.06 2.06-.94-2.06-.94L8.5 2.5l-.94 2.06-2.06.94zm10 10l.94 2.06.94-2.06 2.06-.94-2.06-.94-.94-2.06-.94 2.06-2.06.94z\"/><path d=\"M17.41 7.96l-1.37-1.37c-.4-.4-.92-.59-1.43-.59-.52 0-1.04.2-1.43.59L10.3 9.45l-7.72 7.72c-.78.78-.78 2.05 0 2.83L4 21.41c.39.39.9.59 1.41.59.51 0 1.02-.2 1.41-.59l7.78-7.78 2.81-2.81c.8-.78.8-2.07 0-2.86zM5.41 20L4 18.59l7.72-7.72 1.47 1.35L5.41 20z\"/>\n",
              "  </svg>\n",
              "      </button>\n",
              "      \n",
              "  <style>\n",
              "    .colab-df-container {\n",
              "      display:flex;\n",
              "      flex-wrap:wrap;\n",
              "      gap: 12px;\n",
              "    }\n",
              "\n",
              "    .colab-df-convert {\n",
              "      background-color: #E8F0FE;\n",
              "      border: none;\n",
              "      border-radius: 50%;\n",
              "      cursor: pointer;\n",
              "      display: none;\n",
              "      fill: #1967D2;\n",
              "      height: 32px;\n",
              "      padding: 0 0 0 0;\n",
              "      width: 32px;\n",
              "    }\n",
              "\n",
              "    .colab-df-convert:hover {\n",
              "      background-color: #E2EBFA;\n",
              "      box-shadow: 0px 1px 2px rgba(60, 64, 67, 0.3), 0px 1px 3px 1px rgba(60, 64, 67, 0.15);\n",
              "      fill: #174EA6;\n",
              "    }\n",
              "\n",
              "    [theme=dark] .colab-df-convert {\n",
              "      background-color: #3B4455;\n",
              "      fill: #D2E3FC;\n",
              "    }\n",
              "\n",
              "    [theme=dark] .colab-df-convert:hover {\n",
              "      background-color: #434B5C;\n",
              "      box-shadow: 0px 1px 3px 1px rgba(0, 0, 0, 0.15);\n",
              "      filter: drop-shadow(0px 1px 2px rgba(0, 0, 0, 0.3));\n",
              "      fill: #FFFFFF;\n",
              "    }\n",
              "  </style>\n",
              "\n",
              "      <script>\n",
              "        const buttonEl =\n",
              "          document.querySelector('#df-c924b012-0441-49a2-a8ce-bdb0c6d103f0 button.colab-df-convert');\n",
              "        buttonEl.style.display =\n",
              "          google.colab.kernel.accessAllowed ? 'block' : 'none';\n",
              "\n",
              "        async function convertToInteractive(key) {\n",
              "          const element = document.querySelector('#df-c924b012-0441-49a2-a8ce-bdb0c6d103f0');\n",
              "          const dataTable =\n",
              "            await google.colab.kernel.invokeFunction('convertToInteractive',\n",
              "                                                     [key], {});\n",
              "          if (!dataTable) return;\n",
              "\n",
              "          const docLinkHtml = 'Like what you see? Visit the ' +\n",
              "            '<a target=\"_blank\" href=https://colab.research.google.com/notebooks/data_table.ipynb>data table notebook</a>'\n",
              "            + ' to learn more about interactive tables.';\n",
              "          element.innerHTML = '';\n",
              "          dataTable['output_type'] = 'display_data';\n",
              "          await google.colab.output.renderOutput(dataTable, element);\n",
              "          const docLink = document.createElement('div');\n",
              "          docLink.innerHTML = docLinkHtml;\n",
              "          element.appendChild(docLink);\n",
              "        }\n",
              "      </script>\n",
              "    </div>\n",
              "  </div>\n",
              "  "
            ]
          },
          "metadata": {},
          "execution_count": 333
        }
      ]
    },
    {
      "cell_type": "markdown",
      "source": [
        "**The dependent variable**"
      ],
      "metadata": {
        "id": "kW8Mj2dSI7zD"
      }
    },
    {
      "cell_type": "markdown",
      "source": [
        "A dependent variable is the variable that changes as a result of the independent variable manipulation. It's the outcome you're interested in measuring, and it “depends” on your independent variable.\n",
        "Then we can say that the dependent variable is the attribute \"BAD\"  "
      ],
      "metadata": {
        "id": "MpLyewtmJH5H"
      }
    },
    {
      "cell_type": "markdown",
      "source": [
        "**Visualization**"
      ],
      "metadata": {
        "id": "ABNkS3KiWBzZ"
      }
    },
    {
      "cell_type": "code",
      "source": [
        "#Frequency distribution of target variable \"BAD\" and visualizing the target variable\n",
        "file['BAD'].value_counts().plot.bar(title='BAD')"
      ],
      "metadata": {
        "colab": {
          "base_uri": "https://localhost:8080/",
          "height": 295
        },
        "id": "l18ILKFM6Rfq",
        "outputId": "74de080b-53db-4b16-f9ff-cc7c64122fc5"
      },
      "execution_count": 334,
      "outputs": [
        {
          "output_type": "execute_result",
          "data": {
            "text/plain": [
              "<matplotlib.axes._subplots.AxesSubplot at 0x7f81cfbeab90>"
            ]
          },
          "metadata": {},
          "execution_count": 334
        },
        {
          "output_type": "display_data",
          "data": {
            "text/plain": [
              "<Figure size 432x288 with 1 Axes>"
            ],
            "image/png": "[encoded data removed]"
          },
          "metadata": {
            "needs_background": "light"
          }
        }
      ]
    },
    {
      "cell_type": "code",
      "source": [
        "#visualizing the categorical variable REASON\n",
        "REASON_count= file[\"REASON\"].value_counts().rename_axis('REASON').reset_index(name='Total Count')\n",
        "file[\"REASON\"].value_counts().plot.bar(title='REASON')"
      ],
      "metadata": {
        "colab": {
          "base_uri": "https://localhost:8080/",
          "height": 336
        },
        "id": "y2pFwA2s7ltg",
        "outputId": "3eb69f59-e0f2-41f6-a098-7d5233221b52"
      },
      "execution_count": 335,
      "outputs": [
        {
          "output_type": "execute_result",
          "data": {
            "text/plain": [
              "<matplotlib.axes._subplots.AxesSubplot at 0x7f81cf64a190>"
            ]
          },
          "metadata": {},
          "execution_count": 335
        },
        {
          "output_type": "display_data",
          "data": {
            "text/plain": [
              "<Figure size 432x288 with 1 Axes>"
            ],
            "image/png": "[encoded data removed]"
          },
          "metadata": {
            "needs_background": "light"
          }
        }
      ]
    },
    {
      "cell_type": "code",
      "source": [
        "#visualizing the categorical variable JOB\n",
        "JOB_count= file[\"JOB\"].value_counts().rename_axis('JOB').reset_index(name='Total Count')\n",
        "file[\"JOB\"].value_counts().plot.bar(title='JOB')"
      ],
      "metadata": {
        "colab": {
          "base_uri": "https://localhost:8080/",
          "height": 326
        },
        "id": "FKlDskGb7ycv",
        "outputId": "f6ba81bc-f202-429f-c09c-f48578336a49"
      },
      "execution_count": 336,
      "outputs": [
        {
          "output_type": "execute_result",
          "data": {
            "text/plain": [
              "<matplotlib.axes._subplots.AxesSubplot at 0x7f81cf744690>"
            ]
          },
          "metadata": {},
          "execution_count": 336
        },
        {
          "output_type": "display_data",
          "data": {
            "text/plain": [
              "<Figure size 432x288 with 1 Axes>"
            ],
            "image/png": "[encoded data removed]"
          },
          "metadata": {
            "needs_background": "light"
          }
        }
      ]
    },
    {
      "cell_type": "code",
      "source": [
        "#visualizing the correlation beetween variales \n",
        "plt.scatter(file['CLNO'],file['MORTDUE'])"
      ],
      "metadata": {
        "colab": {
          "base_uri": "https://localhost:8080/",
          "height": 282
        },
        "id": "_uSGzZerWFrM",
        "outputId": "75b79b5e-84f6-4bc0-f2ad-8224959bf76d"
      },
      "execution_count": 337,
      "outputs": [
        {
          "output_type": "execute_result",
          "data": {
            "text/plain": [
              "<matplotlib.collections.PathCollection at 0x7f81cf3f58d0>"
            ]
          },
          "metadata": {},
          "execution_count": 337
        },
        {
          "output_type": "display_data",
          "data": {
            "text/plain": [
              "<Figure size 432x288 with 1 Axes>"
            ],
            "image/png": "[encoded data removed]"
          },
          "metadata": {
            "needs_background": "light"
          }
        }
      ]
    },
    {
      "cell_type": "code",
      "source": [
        "plt.scatter(file['CLNO'],file['DEBTINC'])"
      ],
      "metadata": {
        "colab": {
          "base_uri": "https://localhost:8080/",
          "height": 282
        },
        "id": "pIn_GNqR8iFI",
        "outputId": "ad8e7a5b-906e-4710-ec82-1ee39bae4cfd"
      },
      "execution_count": 338,
      "outputs": [
        {
          "output_type": "execute_result",
          "data": {
            "text/plain": [
              "<matplotlib.collections.PathCollection at 0x7f81cf45bed0>"
            ]
          },
          "metadata": {},
          "execution_count": 338
        },
        {
          "output_type": "display_data",
          "data": {
            "text/plain": [
              "<Figure size 432x288 with 1 Axes>"
            ],
            "image/png": "[encoded data removed]"
          },
          "metadata": {
            "needs_background": "light"
          }
        }
      ]
    },
    {
      "cell_type": "markdown",
      "source": [
        "**Missing Values**"
      ],
      "metadata": {
        "id": "nRSza9OlAx8l"
      }
    },
    {
      "cell_type": "code",
      "source": [
        "MissingData=file.isnull().sum().rename_axis('Variables').reset_index(name='Missing Values') # the isnull() returns 1 if the value is null\n",
        "MissingData"
      ],
      "metadata": {
        "colab": {
          "base_uri": "https://localhost:8080/",
          "height": 457
        },
        "id": "leHTqhUEA3x-",
        "outputId": "5bd81e88-249f-483d-bb36-f26f05467949"
      },
      "execution_count": 339,
      "outputs": [
        {
          "output_type": "execute_result",
          "data": {
            "text/plain": [
              "   Variables  Missing Values\n",
              "0        BAD               0\n",
              "1       LOAN               0\n",
              "2    MORTDUE             518\n",
              "3      VALUE             112\n",
              "4     REASON             252\n",
              "5        JOB             279\n",
              "6        YOJ             515\n",
              "7      DEROG             708\n",
              "8     DELINQ             580\n",
              "9      CLAGE             308\n",
              "10      NINQ             510\n",
              "11      CLNO             222\n",
              "12   DEBTINC            1267"
            ],
            "text/html": [
              "\n",
              "  <div id=\"df-4a054676-de53-4d49-9832-daccb6f57fd3\">\n",
              "    <div class=\"colab-df-container\">\n",
              "      <div>\n",
              "<style scoped>\n",
              "    .dataframe tbody tr th:only-of-type {\n",
              "        vertical-align: middle;\n",
              "    }\n",
              "\n",
              "    .dataframe tbody tr th {\n",
              "        vertical-align: top;\n",
              "    }\n",
              "\n",
              "    .dataframe thead th {\n",
              "        text-align: right;\n",
              "    }\n",
              "</style>\n",
              "<table border=\"1\" class=\"dataframe\">\n",
              "  <thead>\n",
              "    <tr style=\"text-align: right;\">\n",
              "      <th></th>\n",
              "      <th>Variables</th>\n",
              "      <th>Missing Values</th>\n",
              "    </tr>\n",
              "  </thead>\n",
              "  <tbody>\n",
              "    <tr>\n",
              "      <th>0</th>\n",
              "      <td>BAD</td>\n",
              "      <td>0</td>\n",
              "    </tr>\n",
              "    <tr>\n",
              "      <th>1</th>\n",
              "      <td>LOAN</td>\n",
              "      <td>0</td>\n",
              "    </tr>\n",
              "    <tr>\n",
              "      <th>2</th>\n",
              "      <td>MORTDUE</td>\n",
              "      <td>518</td>\n",
              "    </tr>\n",
              "    <tr>\n",
              "      <th>3</th>\n",
              "      <td>VALUE</td>\n",
              "      <td>112</td>\n",
              "    </tr>\n",
              "    <tr>\n",
              "      <th>4</th>\n",
              "      <td>REASON</td>\n",
              "      <td>252</td>\n",
              "    </tr>\n",
              "    <tr>\n",
              "      <th>5</th>\n",
              "      <td>JOB</td>\n",
              "      <td>279</td>\n",
              "    </tr>\n",
              "    <tr>\n",
              "      <th>6</th>\n",
              "      <td>YOJ</td>\n",
              "      <td>515</td>\n",
              "    </tr>\n",
              "    <tr>\n",
              "      <th>7</th>\n",
              "      <td>DEROG</td>\n",
              "      <td>708</td>\n",
              "    </tr>\n",
              "    <tr>\n",
              "      <th>8</th>\n",
              "      <td>DELINQ</td>\n",
              "      <td>580</td>\n",
              "    </tr>\n",
              "    <tr>\n",
              "      <th>9</th>\n",
              "      <td>CLAGE</td>\n",
              "      <td>308</td>\n",
              "    </tr>\n",
              "    <tr>\n",
              "      <th>10</th>\n",
              "      <td>NINQ</td>\n",
              "      <td>510</td>\n",
              "    </tr>\n",
              "    <tr>\n",
              "      <th>11</th>\n",
              "      <td>CLNO</td>\n",
              "      <td>222</td>\n",
              "    </tr>\n",
              "    <tr>\n",
              "      <th>12</th>\n",
              "      <td>DEBTINC</td>\n",
              "      <td>1267</td>\n",
              "    </tr>\n",
              "  </tbody>\n",
              "</table>\n",
              "</div>\n",
              "      <button class=\"colab-df-convert\" onclick=\"convertToInteractive('df-4a054676-de53-4d49-9832-daccb6f57fd3')\"\n",
              "              title=\"Convert this dataframe to an interactive table.\"\n",
              "              style=\"display:none;\">\n",
              "        \n",
              "  <svg xmlns=\"http://www.w3.org/2000/svg\" height=\"24px\"viewBox=\"0 0 24 24\"\n",
              "       width=\"24px\">\n",
              "    <path d=\"M0 0h24v24H0V0z\" fill=\"none\"/>\n",
              "    <path d=\"M18.56 5.44l.94 2.06.94-2.06 2.06-.94-2.06-.94-.94-2.06-.94 2.06-2.06.94zm-11 1L8.5 8.5l.94-2.06 2.06-.94-2.06-.94L8.5 2.5l-.94 2.06-2.06.94zm10 10l.94 2.06.94-2.06 2.06-.94-2.06-.94-.94-2.06-.94 2.06-2.06.94z\"/><path d=\"M17.41 7.96l-1.37-1.37c-.4-.4-.92-.59-1.43-.59-.52 0-1.04.2-1.43.59L10.3 9.45l-7.72 7.72c-.78.78-.78 2.05 0 2.83L4 21.41c.39.39.9.59 1.41.59.51 0 1.02-.2 1.41-.59l7.78-7.78 2.81-2.81c.8-.78.8-2.07 0-2.86zM5.41 20L4 18.59l7.72-7.72 1.47 1.35L5.41 20z\"/>\n",
              "  </svg>\n",
              "      </button>\n",
              "      \n",
              "  <style>\n",
              "    .colab-df-container {\n",
              "      display:flex;\n",
              "      flex-wrap:wrap;\n",
              "      gap: 12px;\n",
              "    }\n",
              "\n",
              "    .colab-df-convert {\n",
              "      background-color: #E8F0FE;\n",
              "      border: none;\n",
              "      border-radius: 50%;\n",
              "      cursor: pointer;\n",
              "      display: none;\n",
              "      fill: #1967D2;\n",
              "      height: 32px;\n",
              "      padding: 0 0 0 0;\n",
              "      width: 32px;\n",
              "    }\n",
              "\n",
              "    .colab-df-convert:hover {\n",
              "      background-color: #E2EBFA;\n",
              "      box-shadow: 0px 1px 2px rgba(60, 64, 67, 0.3), 0px 1px 3px 1px rgba(60, 64, 67, 0.15);\n",
              "      fill: #174EA6;\n",
              "    }\n",
              "\n",
              "    [theme=dark] .colab-df-convert {\n",
              "      background-color: #3B4455;\n",
              "      fill: #D2E3FC;\n",
              "    }\n",
              "\n",
              "    [theme=dark] .colab-df-convert:hover {\n",
              "      background-color: #434B5C;\n",
              "      box-shadow: 0px 1px 3px 1px rgba(0, 0, 0, 0.15);\n",
              "      filter: drop-shadow(0px 1px 2px rgba(0, 0, 0, 0.3));\n",
              "      fill: #FFFFFF;\n",
              "    }\n",
              "  </style>\n",
              "\n",
              "      <script>\n",
              "        const buttonEl =\n",
              "          document.querySelector('#df-4a054676-de53-4d49-9832-daccb6f57fd3 button.colab-df-convert');\n",
              "        buttonEl.style.display =\n",
              "          google.colab.kernel.accessAllowed ? 'block' : 'none';\n",
              "\n",
              "        async function convertToInteractive(key) {\n",
              "          const element = document.querySelector('#df-4a054676-de53-4d49-9832-daccb6f57fd3');\n",
              "          const dataTable =\n",
              "            await google.colab.kernel.invokeFunction('convertToInteractive',\n",
              "                                                     [key], {});\n",
              "          if (!dataTable) return;\n",
              "\n",
              "          const docLinkHtml = 'Like what you see? Visit the ' +\n",
              "            '<a target=\"_blank\" href=https://colab.research.google.com/notebooks/data_table.ipynb>data table notebook</a>'\n",
              "            + ' to learn more about interactive tables.';\n",
              "          element.innerHTML = '';\n",
              "          dataTable['output_type'] = 'display_data';\n",
              "          await google.colab.output.renderOutput(dataTable, element);\n",
              "          const docLink = document.createElement('div');\n",
              "          docLink.innerHTML = docLinkHtml;\n",
              "          element.appendChild(docLink);\n",
              "        }\n",
              "      </script>\n",
              "    </div>\n",
              "  </div>\n",
              "  "
            ]
          },
          "metadata": {},
          "execution_count": 339
        }
      ]
    },
    {
      "cell_type": "code",
      "source": [
        "#dropping rows that have missing data\n",
        "file.dropna(axis=0, how='any', inplace=True)\n",
        "file"
      ],
      "metadata": {
        "colab": {
          "base_uri": "https://localhost:8080/",
          "height": 424
        },
        "id": "KNP37k-fBVM5",
        "outputId": "6f2a4408-f564-4d02-dfa7-234dc35ea6a0"
      },
      "execution_count": 340,
      "outputs": [
        {
          "output_type": "execute_result",
          "data": {
            "text/plain": [
              "      BAD   LOAN   MORTDUE     VALUE   REASON     JOB   YOJ  DEROG  DELINQ  \\\n",
              "5       1   1700   30548.0   40320.0  HomeImp   Other   9.0    0.0     0.0   \n",
              "7       1   1800   28502.0   43034.0  HomeImp   Other  11.0    0.0     0.0   \n",
              "19      0   2300  102370.0  120953.0  HomeImp  Office   2.0    0.0     0.0   \n",
              "25      1   2400   34863.0   47471.0  HomeImp     Mgr  12.0    0.0     0.0   \n",
              "26      0   2400   98449.0  117195.0  HomeImp  Office   4.0    0.0     0.0   \n",
              "...   ...    ...       ...       ...      ...     ...   ...    ...     ...   \n",
              "5955    0  88900   57264.0   90185.0  DebtCon   Other  16.0    0.0     0.0   \n",
              "5956    0  89000   54576.0   92937.0  DebtCon   Other  16.0    0.0     0.0   \n",
              "5957    0  89200   54045.0   92924.0  DebtCon   Other  15.0    0.0     0.0   \n",
              "5958    0  89800   50370.0   91861.0  DebtCon   Other  14.0    0.0     0.0   \n",
              "5959    0  89900   48811.0   88934.0  DebtCon   Other  15.0    0.0     0.0   \n",
              "\n",
              "           CLAGE  NINQ  CLNO    DEBTINC  \n",
              "5     101.466002   1.0   8.0  37.113614  \n",
              "7      88.766030   0.0   8.0  36.884894  \n",
              "19     90.992533   0.0  13.0  31.588503  \n",
              "25     70.491080   1.0  21.0  38.263601  \n",
              "26     93.811775   0.0  13.0  29.681827  \n",
              "...          ...   ...   ...        ...  \n",
              "5955  221.808718   0.0  16.0  36.112347  \n",
              "5956  208.692070   0.0  15.0  35.859971  \n",
              "5957  212.279697   0.0  15.0  35.556590  \n",
              "5958  213.892709   0.0  16.0  34.340882  \n",
              "5959  219.601002   0.0  16.0  34.571519  \n",
              "\n",
              "[3364 rows x 13 columns]"
            ],
            "text/html": [
              "\n",
              "  <div id=\"df-8fc34f31-70d5-4af8-9773-36dee739aeae\">\n",
              "    <div class=\"colab-df-container\">\n",
              "      <div>\n",
              "<style scoped>\n",
              "    .dataframe tbody tr th:only-of-type {\n",
              "        vertical-align: middle;\n",
              "    }\n",
              "\n",
              "    .dataframe tbody tr th {\n",
              "        vertical-align: top;\n",
              "    }\n",
              "\n",
              "    .dataframe thead th {\n",
              "        text-align: right;\n",
              "    }\n",
              "</style>\n",
              "<table border=\"1\" class=\"dataframe\">\n",
              "  <thead>\n",
              "    <tr style=\"text-align: right;\">\n",
              "      <th></th>\n",
              "      <th>BAD</th>\n",
              "      <th>LOAN</th>\n",
              "      <th>MORTDUE</th>\n",
              "      <th>VALUE</th>\n",
              "      <th>REASON</th>\n",
              "      <th>JOB</th>\n",
              "      <th>YOJ</th>\n",
              "      <th>DEROG</th>\n",
              "      <th>DELINQ</th>\n",
              "      <th>CLAGE</th>\n",
              "      <th>NINQ</th>\n",
              "      <th>CLNO</th>\n",
              "      <th>DEBTINC</th>\n",
              "    </tr>\n",
              "  </thead>\n",
              "  <tbody>\n",
              "    <tr>\n",
              "      <th>5</th>\n",
              "      <td>1</td>\n",
              "      <td>1700</td>\n",
              "      <td>30548.0</td>\n",
              "      <td>40320.0</td>\n",
              "      <td>HomeImp</td>\n",
              "      <td>Other</td>\n",
              "      <td>9.0</td>\n",
              "      <td>0.0</td>\n",
              "      <td>0.0</td>\n",
              "      <td>101.466002</td>\n",
              "      <td>1.0</td>\n",
              "      <td>8.0</td>\n",
              "      <td>37.113614</td>\n",
              "    </tr>\n",
              "    <tr>\n",
              "      <th>7</th>\n",
              "      <td>1</td>\n",
              "      <td>1800</td>\n",
              "      <td>28502.0</td>\n",
              "      <td>43034.0</td>\n",
              "      <td>HomeImp</td>\n",
              "      <td>Other</td>\n",
              "      <td>11.0</td>\n",
              "      <td>0.0</td>\n",
              "      <td>0.0</td>\n",
              "      <td>88.766030</td>\n",
              "      <td>0.0</td>\n",
              "      <td>8.0</td>\n",
              "      <td>36.884894</td>\n",
              "    </tr>\n",
              "    <tr>\n",
              "      <th>19</th>\n",
              "      <td>0</td>\n",
              "      <td>2300</td>\n",
              "      <td>102370.0</td>\n",
              "      <td>120953.0</td>\n",
              "      <td>HomeImp</td>\n",
              "      <td>Office</td>\n",
              "      <td>2.0</td>\n",
              "      <td>0.0</td>\n",
              "      <td>0.0</td>\n",
              "      <td>90.992533</td>\n",
              "      <td>0.0</td>\n",
              "      <td>13.0</td>\n",
              "      <td>31.588503</td>\n",
              "    </tr>\n",
              "    <tr>\n",
              "      <th>25</th>\n",
              "      <td>1</td>\n",
              "      <td>2400</td>\n",
              "      <td>34863.0</td>\n",
              "      <td>47471.0</td>\n",
              "      <td>HomeImp</td>\n",
              "      <td>Mgr</td>\n",
              "      <td>12.0</td>\n",
              "      <td>0.0</td>\n",
              "      <td>0.0</td>\n",
              "      <td>70.491080</td>\n",
              "      <td>1.0</td>\n",
              "      <td>21.0</td>\n",
              "      <td>38.263601</td>\n",
              "    </tr>\n",
              "    <tr>\n",
              "      <th>26</th>\n",
              "      <td>0</td>\n",
              "      <td>2400</td>\n",
              "      <td>98449.0</td>\n",
              "      <td>117195.0</td>\n",
              "      <td>HomeImp</td>\n",
              "      <td>Office</td>\n",
              "      <td>4.0</td>\n",
              "      <td>0.0</td>\n",
              "      <td>0.0</td>\n",
              "      <td>93.811775</td>\n",
              "      <td>0.0</td>\n",
              "      <td>13.0</td>\n",
              "      <td>29.681827</td>\n",
              "    </tr>\n",
              "    <tr>\n",
              "      <th>...</th>\n",
              "      <td>...</td>\n",
              "      <td>...</td>\n",
              "      <td>...</td>\n",
              "      <td>...</td>\n",
              "      <td>...</td>\n",
              "      <td>...</td>\n",
              "      <td>...</td>\n",
              "      <td>...</td>\n",
              "      <td>...</td>\n",
              "      <td>...</td>\n",
              "      <td>...</td>\n",
              "      <td>...</td>\n",
              "      <td>...</td>\n",
              "    </tr>\n",
              "    <tr>\n",
              "      <th>5955</th>\n",
              "      <td>0</td>\n",
              "      <td>88900</td>\n",
              "      <td>57264.0</td>\n",
              "      <td>90185.0</td>\n",
              "      <td>DebtCon</td>\n",
              "      <td>Other</td>\n",
              "      <td>16.0</td>\n",
              "      <td>0.0</td>\n",
              "      <td>0.0</td>\n",
              "      <td>221.808718</td>\n",
              "      <td>0.0</td>\n",
              "      <td>16.0</td>\n",
              "      <td>36.112347</td>\n",
              "    </tr>\n",
              "    <tr>\n",
              "      <th>5956</th>\n",
              "      <td>0</td>\n",
              "      <td>89000</td>\n",
              "      <td>54576.0</td>\n",
              "      <td>92937.0</td>\n",
              "      <td>DebtCon</td>\n",
              "      <td>Other</td>\n",
              "      <td>16.0</td>\n",
              "      <td>0.0</td>\n",
              "      <td>0.0</td>\n",
              "      <td>208.692070</td>\n",
              "      <td>0.0</td>\n",
              "      <td>15.0</td>\n",
              "      <td>35.859971</td>\n",
              "    </tr>\n",
              "    <tr>\n",
              "      <th>5957</th>\n",
              "      <td>0</td>\n",
              "      <td>89200</td>\n",
              "      <td>54045.0</td>\n",
              "      <td>92924.0</td>\n",
              "      <td>DebtCon</td>\n",
              "      <td>Other</td>\n",
              "      <td>15.0</td>\n",
              "      <td>0.0</td>\n",
              "      <td>0.0</td>\n",
              "      <td>212.279697</td>\n",
              "      <td>0.0</td>\n",
              "      <td>15.0</td>\n",
              "      <td>35.556590</td>\n",
              "    </tr>\n",
              "    <tr>\n",
              "      <th>5958</th>\n",
              "      <td>0</td>\n",
              "      <td>89800</td>\n",
              "      <td>50370.0</td>\n",
              "      <td>91861.0</td>\n",
              "      <td>DebtCon</td>\n",
              "      <td>Other</td>\n",
              "      <td>14.0</td>\n",
              "      <td>0.0</td>\n",
              "      <td>0.0</td>\n",
              "      <td>213.892709</td>\n",
              "      <td>0.0</td>\n",
              "      <td>16.0</td>\n",
              "      <td>34.340882</td>\n",
              "    </tr>\n",
              "    <tr>\n",
              "      <th>5959</th>\n",
              "      <td>0</td>\n",
              "      <td>89900</td>\n",
              "      <td>48811.0</td>\n",
              "      <td>88934.0</td>\n",
              "      <td>DebtCon</td>\n",
              "      <td>Other</td>\n",
              "      <td>15.0</td>\n",
              "      <td>0.0</td>\n",
              "      <td>0.0</td>\n",
              "      <td>219.601002</td>\n",
              "      <td>0.0</td>\n",
              "      <td>16.0</td>\n",
              "      <td>34.571519</td>\n",
              "    </tr>\n",
              "  </tbody>\n",
              "</table>\n",
              "<p>3364 rows × 13 columns</p>\n",
              "</div>\n",
              "      <button class=\"colab-df-convert\" onclick=\"convertToInteractive('df-8fc34f31-70d5-4af8-9773-36dee739aeae')\"\n",
              "              title=\"Convert this dataframe to an interactive table.\"\n",
              "              style=\"display:none;\">\n",
              "        \n",
              "  <svg xmlns=\"http://www.w3.org/2000/svg\" height=\"24px\"viewBox=\"0 0 24 24\"\n",
              "       width=\"24px\">\n",
              "    <path d=\"M0 0h24v24H0V0z\" fill=\"none\"/>\n",
              "    <path d=\"M18.56 5.44l.94 2.06.94-2.06 2.06-.94-2.06-.94-.94-2.06-.94 2.06-2.06.94zm-11 1L8.5 8.5l.94-2.06 2.06-.94-2.06-.94L8.5 2.5l-.94 2.06-2.06.94zm10 10l.94 2.06.94-2.06 2.06-.94-2.06-.94-.94-2.06-.94 2.06-2.06.94z\"/><path d=\"M17.41 7.96l-1.37-1.37c-.4-.4-.92-.59-1.43-.59-.52 0-1.04.2-1.43.59L10.3 9.45l-7.72 7.72c-.78.78-.78 2.05 0 2.83L4 21.41c.39.39.9.59 1.41.59.51 0 1.02-.2 1.41-.59l7.78-7.78 2.81-2.81c.8-.78.8-2.07 0-2.86zM5.41 20L4 18.59l7.72-7.72 1.47 1.35L5.41 20z\"/>\n",
              "  </svg>\n",
              "      </button>\n",
              "      \n",
              "  <style>\n",
              "    .colab-df-container {\n",
              "      display:flex;\n",
              "      flex-wrap:wrap;\n",
              "      gap: 12px;\n",
              "    }\n",
              "\n",
              "    .colab-df-convert {\n",
              "      background-color: #E8F0FE;\n",
              "      border: none;\n",
              "      border-radius: 50%;\n",
              "      cursor: pointer;\n",
              "      display: none;\n",
              "      fill: #1967D2;\n",
              "      height: 32px;\n",
              "      padding: 0 0 0 0;\n",
              "      width: 32px;\n",
              "    }\n",
              "\n",
              "    .colab-df-convert:hover {\n",
              "      background-color: #E2EBFA;\n",
              "      box-shadow: 0px 1px 2px rgba(60, 64, 67, 0.3), 0px 1px 3px 1px rgba(60, 64, 67, 0.15);\n",
              "      fill: #174EA6;\n",
              "    }\n",
              "\n",
              "    [theme=dark] .colab-df-convert {\n",
              "      background-color: #3B4455;\n",
              "      fill: #D2E3FC;\n",
              "    }\n",
              "\n",
              "    [theme=dark] .colab-df-convert:hover {\n",
              "      background-color: #434B5C;\n",
              "      box-shadow: 0px 1px 3px 1px rgba(0, 0, 0, 0.15);\n",
              "      filter: drop-shadow(0px 1px 2px rgba(0, 0, 0, 0.3));\n",
              "      fill: #FFFFFF;\n",
              "    }\n",
              "  </style>\n",
              "\n",
              "      <script>\n",
              "        const buttonEl =\n",
              "          document.querySelector('#df-8fc34f31-70d5-4af8-9773-36dee739aeae button.colab-df-convert');\n",
              "        buttonEl.style.display =\n",
              "          google.colab.kernel.accessAllowed ? 'block' : 'none';\n",
              "\n",
              "        async function convertToInteractive(key) {\n",
              "          const element = document.querySelector('#df-8fc34f31-70d5-4af8-9773-36dee739aeae');\n",
              "          const dataTable =\n",
              "            await google.colab.kernel.invokeFunction('convertToInteractive',\n",
              "                                                     [key], {});\n",
              "          if (!dataTable) return;\n",
              "\n",
              "          const docLinkHtml = 'Like what you see? Visit the ' +\n",
              "            '<a target=\"_blank\" href=https://colab.research.google.com/notebooks/data_table.ipynb>data table notebook</a>'\n",
              "            + ' to learn more about interactive tables.';\n",
              "          element.innerHTML = '';\n",
              "          dataTable['output_type'] = 'display_data';\n",
              "          await google.colab.output.renderOutput(dataTable, element);\n",
              "          const docLink = document.createElement('div');\n",
              "          docLink.innerHTML = docLinkHtml;\n",
              "          element.appendChild(docLink);\n",
              "        }\n",
              "      </script>\n",
              "    </div>\n",
              "  </div>\n",
              "  "
            ]
          },
          "metadata": {},
          "execution_count": 340
        }
      ]
    },
    {
      "cell_type": "code",
      "source": [
        "file.shape"
      ],
      "metadata": {
        "colab": {
          "base_uri": "https://localhost:8080/"
        },
        "id": "WI8De7FiBcaK",
        "outputId": "2f2e7e80-5c39-4c1c-988b-8e72a9a4422d"
      },
      "execution_count": 341,
      "outputs": [
        {
          "output_type": "execute_result",
          "data": {
            "text/plain": [
              "(3364, 13)"
            ]
          },
          "metadata": {},
          "execution_count": 341
        }
      ]
    },
    {
      "cell_type": "markdown",
      "source": [
        "**Entropy**"
      ],
      "metadata": {
        "id": "ZcnDi7A0GQ4b"
      }
    },
    {
      "cell_type": "markdown",
      "source": [
        "  The English meaning of the word entropy is: it is a state of disorder, confusion, and disorganization.\n",
        "Claude E. Shannon had expressed this relationship between the probability and the heterogeneity or impurity in the mathematical form with the help of the following equation:\n",
        "\n",
        "![entropie.png](data:image/png;base64,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)\n",
        "\n",
        "The uncertainty or the impurity is represented as the log to base 2 of the probability of a category (pi). The index (i) refers to the number of possible categories. Here, i = 2 as our problem is a binary classification."
      ],
      "metadata": {
        "id": "3WybtWtxMjjg"
      }
    },
    {
      "cell_type": "code",
      "source": [
        "def Entropie(S):\n",
        "    S= array(S)\n",
        "    classes_distinctes = set(S[:, 0])\n",
        "    classes = list(S[:, 0]) # our classes is BAD : 0 or BAD : 1\n",
        "    s = 0\n",
        "    for c in classes_distinctes:\n",
        "        p = classes.count(c)/len(classes)\n",
        "        s += p*log2(p)\n",
        "    return(-1.0*s)\n"
      ],
      "metadata": {
        "id": "ALYU2pttZUkz"
      },
      "execution_count": 342,
      "outputs": []
    },
    {
      "cell_type": "markdown",
      "source": [
        "![mesure_de desordre.PNG](data:image/png;base64,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)\n",
        "\n",
        "with p:\n",
        " * the probability of a category (pi)\n",
        "\n",
        "\n",
        "\n",
        "![pi.png](data:image/png;base64,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)"
      ],
      "metadata": {
        "id": "MqoeBlRwmdsn"
      }
    },
    {
      "cell_type": "code",
      "source": [
        "def Mesure_desorde(S, numero_colon_attribut):\n",
        "    Bonne_mesure_desorde = +inf\n",
        "    Bonne_valeur_de_repartition = 0\n",
        "    S = S.to_numpy()\n",
        "    classes = list(set(S[:, 0]))\n",
        "    valeurs_attribut = list(set(S[:, numero_colon_attribut]))\n",
        "    valeurs_attribut.sort()\n",
        "    Gauche = []\n",
        "    Droite = []\n",
        "\n",
        "    for i in range(len(valeurs_attribut)-1):\n",
        "        v = valeurs_attribut[i]\n",
        "        Gauche.clear()\n",
        "        Droite.clear()\n",
        "        for e in S:\n",
        "            val_attribut_pour_e = e[numero_colon_attribut]\n",
        "            if val_attribut_pour_e <= v:\n",
        "                Gauche.append(e)\n",
        "            else:\n",
        "                Droite.append(e)\n",
        "        pGau = len(Gauche)/len(S)\n",
        "        pDr = len(Droite)/len(S)\n",
        "        mesure = (pGau)*GINI(Gauche)+(pDr)*GINI(Droite)\n",
        "        if mesure < Bonne_mesure_desordre:\n",
        "            Bonne_mesure_desordre = mesure\n",
        "            Bonne_valeur_de_repartition = v\n",
        "    return(Bonne_mesure_desordre, Bonne_valeur_de_repartition)"
      ],
      "metadata": {
        "id": "Y2y2DCw7RZ2H"
      },
      "execution_count": 343,
      "outputs": []
    },
    {
      "cell_type": "code",
      "source": [
        "print(Entropie(file))"
      ],
      "metadata": {
        "colab": {
          "base_uri": "https://localhost:8080/"
        },
        "id": "KVnvfZKfh-fq",
        "outputId": "ddea44e7-dd5c-420e-c61e-96252dfc604a"
      },
      "execution_count": 344,
      "outputs": [
        {
          "output_type": "stream",
          "name": "stdout",
          "text": [
            "0.4337253106573937\n"
          ]
        }
      ]
    },
    {
      "cell_type": "markdown",
      "source": [
        "**GINI index**"
      ],
      "metadata": {
        "id": "LAxI1qD2HDRp"
      }
    },
    {
      "cell_type": "markdown",
      "source": [
        "![gini.png](data:image/png;base64,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)"
      ],
      "metadata": {
        "id": "DDICcxtFmuCI"
      }
    },
    {
      "cell_type": "code",
      "source": [
        "def GINI(S):\n",
        "    S = array(S)\n",
        "    clonne_des_classes = list(S[:, -1])\n",
        "    classes = list(set(S[:, -1]))\n",
        "    k = len(classes)\n",
        "    s = 0\n",
        "    for i in range(k):\n",
        "        pi = clonne_des_classes.count(classes[i]/len(S[:, -1]))\n",
        "        s += pi**2\n",
        "    return 1-s"
      ],
      "metadata": {
        "id": "mmN_fvFkjdpO"
      },
      "execution_count": 345,
      "outputs": []
    },
    {
      "cell_type": "code",
      "source": [
        "GINI(file)"
      ],
      "metadata": {
        "colab": {
          "base_uri": "https://localhost:8080/"
        },
        "id": "vDd_oLBBjinH",
        "outputId": "16e76aa6-6357-4ec0-ffbb-d2b8651dcf98"
      },
      "execution_count": 346,
      "outputs": [
        {
          "output_type": "execute_result",
          "data": {
            "text/plain": [
              "1"
            ]
          },
          "metadata": {},
          "execution_count": 346
        }
      ]
    },
    {
      "cell_type": "code",
      "source": [
        "BAD = file.iloc[:,0]\n",
        "LOAN = file.iloc[:,1]\n",
        "MORTDUE = file.iloc[:,2]\n",
        "type(BAD)\n",
        "MORTDUE"
      ],
      "metadata": {
        "colab": {
          "base_uri": "https://localhost:8080/"
        },
        "id": "qdGEARJpwn0i",
        "outputId": "26131bb6-7e7f-40f9-9989-126682d6607e"
      },
      "execution_count": 347,
      "outputs": [
        {
          "output_type": "execute_result",
          "data": {
            "text/plain": [
              "5        30548.0\n",
              "7        28502.0\n",
              "19      102370.0\n",
              "25       34863.0\n",
              "26       98449.0\n",
              "          ...   \n",
              "5955     57264.0\n",
              "5956     54576.0\n",
              "5957     54045.0\n",
              "5958     50370.0\n",
              "5959     48811.0\n",
              "Name: MORTDUE, Length: 3364, dtype: float64"
            ]
          },
          "metadata": {},
          "execution_count": 347
        }
      ]
    },
    {
      "cell_type": "markdown",
      "source": [
        "**Information Gain**"
      ],
      "metadata": {
        "id": "14vNDpBSOdXN"
      }
    },
    {
      "cell_type": "markdown",
      "source": [
        "Information Gain is the pattern observed in the data and is the reduction in entropy. It can also be seen as the entropy of the parent node minus the entropy of the child node. It is calculated as 1 – entropy. \n",
        "\n"
      ],
      "metadata": {
        "id": "caiFHIVeOFIg"
      }
    },
    {
      "cell_type": "code",
      "source": [
        "def Gain_d_information(S, numero_colon_attribut):\n",
        "    S = S.to_numpy()\n",
        "    classes = list(set(S[:, 0]))\n",
        "    valeurs_attribut = list(set(S[:, numero_colon_attribut]))\n",
        "    Si = [[]for i in range(len(valeurs_attribut))]\n",
        "    for e in S:\n",
        "        e = list(e)\n",
        "        val_attribut_pour_e = e[numero_colon_attribut]\n",
        "        numero_sous_ensemble = valeurs_attribut.index(val_attribut_pour_e)\n",
        "        Si[numero_sous_ensemble].append(e)\n",
        "    Si = array(Si)\n",
        "    som = 0\n",
        "    for sous_ensemble in Si:\n",
        "        som += (len(sous_ensemble)/len(S))*Entropie(sous_ensemble)\n",
        "    return(Entropie(S)-som)"
      ],
      "metadata": {
        "id": "iA8Y_AWinDu_"
      },
      "execution_count": 348,
      "outputs": []
    },
    {
      "cell_type": "markdown",
      "source": [
        "Here we use the Information gain for feature selection, by evaluating the gain of each variable in the context of the target variable. In this slightly different usage, the calculation is referred to as mutual information between the two random variables."
      ],
      "metadata": {
        "id": "F4lEFbLXhfmF"
      }
    },
    {
      "cell_type": "code",
      "source": [
        "print(\"LOAN :\",Gain_d_information(file, 1), \"\\n\",\n",
        "\"MORTDUE :\",Gain_d_information(file, 2), \"\\n\",\n",
        " \"REASON :\",Gain_d_information(file, 3), \"\\n\",\n",
        "\"JOB :\",Gain_d_information(file, 4), \"\\n\",\n",
        "\"YOJ :\",Gain_d_information(file, 5), \"\\n\",\n",
        "\"DEROG :\",Gain_d_information(file, 6), \"\\n\",\n",
        "\"DELINQ :\",Gain_d_information(file, 7), \"\\n\",\n",
        "\"CLAGE :\",Gain_d_information(file, 8), \"\\n\",\n",
        "\"NINQ :\",Gain_d_information(file, 9), \"\\n\",\n",
        "\"CLNCO :\",Gain_d_information(file, 10), \"\\n\",\n",
        " \"DEBTING :\",Gain_d_information(file, 11))\n"
      ],
      "metadata": {
        "colab": {
          "base_uri": "https://localhost:8080/"
        },
        "id": "YK9GKOlVvRm7",
        "outputId": "e7a607e7-6ab7-4846-dfc9-ad75bd65dd9d"
      },
      "execution_count": 349,
      "outputs": [
        {
          "output_type": "stream",
          "name": "stderr",
          "text": [
            "/usr/local/lib/python3.7/dist-packages/ipykernel_launcher.py:11: VisibleDeprecationWarning: Creating an ndarray from ragged nested sequences (which is a list-or-tuple of lists-or-tuples-or ndarrays with different lengths or shapes) is deprecated. If you meant to do this, you must specify 'dtype=object' when creating the ndarray.\n",
            "  # This is added back by InteractiveShellApp.init_path()\n"
          ]
        },
        {
          "output_type": "stream",
          "name": "stdout",
          "text": [
            "LOAN : 0.10076895693219562 \n",
            " MORTDUE : 0.43075265905216187 \n",
            " REASON : 0.43075265905216187 \n",
            " JOB : 2.8308664521470295e-05 \n",
            " YOJ : 0.006573646444761216 \n",
            " DEROG : 0.014966505036512368 \n",
            " DELINQ : 0.028405173576032117 \n",
            " CLAGE : 0.03645981105047574 \n",
            " NINQ : 0.4337253106573937 \n",
            " CLNCO : 0.013862803922385647 \n",
            " DEBTING : 0.02498007961306159\n"
          ]
        }
      ]
    },
    {
      "cell_type": "markdown",
      "source": [
        "***Interpretation***\n",
        "\n",
        "The distribution will then be made with\n",
        "attribute 9 (NINQ column -> Number of recent credit inquiries\n",
        ") which\n",
        "gives the greatest gain of information"
      ],
      "metadata": {
        "id": "w1QcgsG9o1xI"
      }
    },
    {
      "cell_type": "markdown",
      "source": [
        "**Data processing**"
      ],
      "metadata": {
        "id": "t2kpUTu-ljep"
      }
    },
    {
      "cell_type": "markdown",
      "source": [
        "We have to convert columns 'REASON' and 'JOB' to numeric Dummy variable turns categorical variables into a series of 0 and 1, making them much easier to compare and to avoid problems ."
      ],
      "metadata": {
        "id": "q_SwiJ_7zbh7"
      }
    },
    {
      "cell_type": "code",
      "source": [
        "file=pd.get_dummies(file, columns=['REASON','JOB'])\n",
        "file"
      ],
      "metadata": {
        "colab": {
          "base_uri": "https://localhost:8080/",
          "height": 488
        },
        "id": "NTwT26N7lnKe",
        "outputId": "3d8cecdb-1a63-4d9c-9d71-6d0aae77a2ab"
      },
      "execution_count": 350,
      "outputs": [
        {
          "output_type": "execute_result",
          "data": {
            "text/plain": [
              "      BAD   LOAN   MORTDUE     VALUE   YOJ  DEROG  DELINQ       CLAGE  NINQ  \\\n",
              "5       1   1700   30548.0   40320.0   9.0    0.0     0.0  101.466002   1.0   \n",
              "7       1   1800   28502.0   43034.0  11.0    0.0     0.0   88.766030   0.0   \n",
              "19      0   2300  102370.0  120953.0   2.0    0.0     0.0   90.992533   0.0   \n",
              "25      1   2400   34863.0   47471.0  12.0    0.0     0.0   70.491080   1.0   \n",
              "26      0   2400   98449.0  117195.0   4.0    0.0     0.0   93.811775   0.0   \n",
              "...   ...    ...       ...       ...   ...    ...     ...         ...   ...   \n",
              "5955    0  88900   57264.0   90185.0  16.0    0.0     0.0  221.808718   0.0   \n",
              "5956    0  89000   54576.0   92937.0  16.0    0.0     0.0  208.692070   0.0   \n",
              "5957    0  89200   54045.0   92924.0  15.0    0.0     0.0  212.279697   0.0   \n",
              "5958    0  89800   50370.0   91861.0  14.0    0.0     0.0  213.892709   0.0   \n",
              "5959    0  89900   48811.0   88934.0  15.0    0.0     0.0  219.601002   0.0   \n",
              "\n",
              "      CLNO    DEBTINC  REASON_DebtCon  REASON_HomeImp  JOB_Mgr  JOB_Office  \\\n",
              "5      8.0  37.113614               0               1        0           0   \n",
              "7      8.0  36.884894               0               1        0           0   \n",
              "19    13.0  31.588503               0               1        0           1   \n",
              "25    21.0  38.263601               0               1        1           0   \n",
              "26    13.0  29.681827               0               1        0           1   \n",
              "...    ...        ...             ...             ...      ...         ...   \n",
              "5955  16.0  36.112347               1               0        0           0   \n",
              "5956  15.0  35.859971               1               0        0           0   \n",
              "5957  15.0  35.556590               1               0        0           0   \n",
              "5958  16.0  34.340882               1               0        0           0   \n",
              "5959  16.0  34.571519               1               0        0           0   \n",
              "\n",
              "      JOB_Other  JOB_ProfExe  JOB_Sales  JOB_Self  \n",
              "5             1            0          0         0  \n",
              "7             1            0          0         0  \n",
              "19            0            0          0         0  \n",
              "25            0            0          0         0  \n",
              "26            0            0          0         0  \n",
              "...         ...          ...        ...       ...  \n",
              "5955          1            0          0         0  \n",
              "5956          1            0          0         0  \n",
              "5957          1            0          0         0  \n",
              "5958          1            0          0         0  \n",
              "5959          1            0          0         0  \n",
              "\n",
              "[3364 rows x 19 columns]"
            ],
            "text/html": [
              "\n",
              "  <div id=\"df-25443cb9-f7d8-4cde-b415-26b305ea905c\">\n",
              "    <div class=\"colab-df-container\">\n",
              "      <div>\n",
              "<style scoped>\n",
              "    .dataframe tbody tr th:only-of-type {\n",
              "        vertical-align: middle;\n",
              "    }\n",
              "\n",
              "    .dataframe tbody tr th {\n",
              "        vertical-align: top;\n",
              "    }\n",
              "\n",
              "    .dataframe thead th {\n",
              "        text-align: right;\n",
              "    }\n",
              "</style>\n",
              "<table border=\"1\" class=\"dataframe\">\n",
              "  <thead>\n",
              "    <tr style=\"text-align: right;\">\n",
              "      <th></th>\n",
              "      <th>BAD</th>\n",
              "      <th>LOAN</th>\n",
              "      <th>MORTDUE</th>\n",
              "      <th>VALUE</th>\n",
              "      <th>YOJ</th>\n",
              "      <th>DEROG</th>\n",
              "      <th>DELINQ</th>\n",
              "      <th>CLAGE</th>\n",
              "      <th>NINQ</th>\n",
              "      <th>CLNO</th>\n",
              "      <th>DEBTINC</th>\n",
              "      <th>REASON_DebtCon</th>\n",
              "      <th>REASON_HomeImp</th>\n",
              "      <th>JOB_Mgr</th>\n",
              "      <th>JOB_Office</th>\n",
              "      <th>JOB_Other</th>\n",
              "      <th>JOB_ProfExe</th>\n",
              "      <th>JOB_Sales</th>\n",
              "      <th>JOB_Self</th>\n",
              "    </tr>\n",
              "  </thead>\n",
              "  <tbody>\n",
              "    <tr>\n",
              "      <th>5</th>\n",
              "      <td>1</td>\n",
              "      <td>1700</td>\n",
              "      <td>30548.0</td>\n",
              "      <td>40320.0</td>\n",
              "      <td>9.0</td>\n",
              "      <td>0.0</td>\n",
              "      <td>0.0</td>\n",
              "      <td>101.466002</td>\n",
              "      <td>1.0</td>\n",
              "      <td>8.0</td>\n",
              "      <td>37.113614</td>\n",
              "      <td>0</td>\n",
              "      <td>1</td>\n",
              "      <td>0</td>\n",
              "      <td>0</td>\n",
              "      <td>1</td>\n",
              "      <td>0</td>\n",
              "      <td>0</td>\n",
              "      <td>0</td>\n",
              "    </tr>\n",
              "    <tr>\n",
              "      <th>7</th>\n",
              "      <td>1</td>\n",
              "      <td>1800</td>\n",
              "      <td>28502.0</td>\n",
              "      <td>43034.0</td>\n",
              "      <td>11.0</td>\n",
              "      <td>0.0</td>\n",
              "      <td>0.0</td>\n",
              "      <td>88.766030</td>\n",
              "      <td>0.0</td>\n",
              "      <td>8.0</td>\n",
              "      <td>36.884894</td>\n",
              "      <td>0</td>\n",
              "      <td>1</td>\n",
              "      <td>0</td>\n",
              "      <td>0</td>\n",
              "      <td>1</td>\n",
              "      <td>0</td>\n",
              "      <td>0</td>\n",
              "      <td>0</td>\n",
              "    </tr>\n",
              "    <tr>\n",
              "      <th>19</th>\n",
              "      <td>0</td>\n",
              "      <td>2300</td>\n",
              "      <td>102370.0</td>\n",
              "      <td>120953.0</td>\n",
              "      <td>2.0</td>\n",
              "      <td>0.0</td>\n",
              "      <td>0.0</td>\n",
              "      <td>90.992533</td>\n",
              "      <td>0.0</td>\n",
              "      <td>13.0</td>\n",
              "      <td>31.588503</td>\n",
              "      <td>0</td>\n",
              "      <td>1</td>\n",
              "      <td>0</td>\n",
              "      <td>1</td>\n",
              "      <td>0</td>\n",
              "      <td>0</td>\n",
              "      <td>0</td>\n",
              "      <td>0</td>\n",
              "    </tr>\n",
              "    <tr>\n",
              "      <th>25</th>\n",
              "      <td>1</td>\n",
              "      <td>2400</td>\n",
              "      <td>34863.0</td>\n",
              "      <td>47471.0</td>\n",
              "      <td>12.0</td>\n",
              "      <td>0.0</td>\n",
              "      <td>0.0</td>\n",
              "      <td>70.491080</td>\n",
              "      <td>1.0</td>\n",
              "      <td>21.0</td>\n",
              "      <td>38.263601</td>\n",
              "      <td>0</td>\n",
              "      <td>1</td>\n",
              "      <td>1</td>\n",
              "      <td>0</td>\n",
              "      <td>0</td>\n",
              "      <td>0</td>\n",
              "      <td>0</td>\n",
              "      <td>0</td>\n",
              "    </tr>\n",
              "    <tr>\n",
              "      <th>26</th>\n",
              "      <td>0</td>\n",
              "      <td>2400</td>\n",
              "      <td>98449.0</td>\n",
              "      <td>117195.0</td>\n",
              "      <td>4.0</td>\n",
              "      <td>0.0</td>\n",
              "      <td>0.0</td>\n",
              "      <td>93.811775</td>\n",
              "      <td>0.0</td>\n",
              "      <td>13.0</td>\n",
              "      <td>29.681827</td>\n",
              "      <td>0</td>\n",
              "      <td>1</td>\n",
              "      <td>0</td>\n",
              "      <td>1</td>\n",
              "      <td>0</td>\n",
              "      <td>0</td>\n",
              "      <td>0</td>\n",
              "      <td>0</td>\n",
              "    </tr>\n",
              "    <tr>\n",
              "      <th>...</th>\n",
              "      <td>...</td>\n",
              "      <td>...</td>\n",
              "      <td>...</td>\n",
              "      <td>...</td>\n",
              "      <td>...</td>\n",
              "      <td>...</td>\n",
              "      <td>...</td>\n",
              "      <td>...</td>\n",
              "      <td>...</td>\n",
              "      <td>...</td>\n",
              "      <td>...</td>\n",
              "      <td>...</td>\n",
              "      <td>...</td>\n",
              "      <td>...</td>\n",
              "      <td>...</td>\n",
              "      <td>...</td>\n",
              "      <td>...</td>\n",
              "      <td>...</td>\n",
              "      <td>...</td>\n",
              "    </tr>\n",
              "    <tr>\n",
              "      <th>5955</th>\n",
              "      <td>0</td>\n",
              "      <td>88900</td>\n",
              "      <td>57264.0</td>\n",
              "      <td>90185.0</td>\n",
              "      <td>16.0</td>\n",
              "      <td>0.0</td>\n",
              "      <td>0.0</td>\n",
              "      <td>221.808718</td>\n",
              "      <td>0.0</td>\n",
              "      <td>16.0</td>\n",
              "      <td>36.112347</td>\n",
              "      <td>1</td>\n",
              "      <td>0</td>\n",
              "      <td>0</td>\n",
              "      <td>0</td>\n",
              "      <td>1</td>\n",
              "      <td>0</td>\n",
              "      <td>0</td>\n",
              "      <td>0</td>\n",
              "    </tr>\n",
              "    <tr>\n",
              "      <th>5956</th>\n",
              "      <td>0</td>\n",
              "      <td>89000</td>\n",
              "      <td>54576.0</td>\n",
              "      <td>92937.0</td>\n",
              "      <td>16.0</td>\n",
              "      <td>0.0</td>\n",
              "      <td>0.0</td>\n",
              "      <td>208.692070</td>\n",
              "      <td>0.0</td>\n",
              "      <td>15.0</td>\n",
              "      <td>35.859971</td>\n",
              "      <td>1</td>\n",
              "      <td>0</td>\n",
              "      <td>0</td>\n",
              "      <td>0</td>\n",
              "      <td>1</td>\n",
              "      <td>0</td>\n",
              "      <td>0</td>\n",
              "      <td>0</td>\n",
              "    </tr>\n",
              "    <tr>\n",
              "      <th>5957</th>\n",
              "      <td>0</td>\n",
              "      <td>89200</td>\n",
              "      <td>54045.0</td>\n",
              "      <td>92924.0</td>\n",
              "      <td>15.0</td>\n",
              "      <td>0.0</td>\n",
              "      <td>0.0</td>\n",
              "      <td>212.279697</td>\n",
              "      <td>0.0</td>\n",
              "      <td>15.0</td>\n",
              "      <td>35.556590</td>\n",
              "      <td>1</td>\n",
              "      <td>0</td>\n",
              "      <td>0</td>\n",
              "      <td>0</td>\n",
              "      <td>1</td>\n",
              "      <td>0</td>\n",
              "      <td>0</td>\n",
              "      <td>0</td>\n",
              "    </tr>\n",
              "    <tr>\n",
              "      <th>5958</th>\n",
              "      <td>0</td>\n",
              "      <td>89800</td>\n",
              "      <td>50370.0</td>\n",
              "      <td>91861.0</td>\n",
              "      <td>14.0</td>\n",
              "      <td>0.0</td>\n",
              "      <td>0.0</td>\n",
              "      <td>213.892709</td>\n",
              "      <td>0.0</td>\n",
              "      <td>16.0</td>\n",
              "      <td>34.340882</td>\n",
              "      <td>1</td>\n",
              "      <td>0</td>\n",
              "      <td>0</td>\n",
              "      <td>0</td>\n",
              "      <td>1</td>\n",
              "      <td>0</td>\n",
              "      <td>0</td>\n",
              "      <td>0</td>\n",
              "    </tr>\n",
              "    <tr>\n",
              "      <th>5959</th>\n",
              "      <td>0</td>\n",
              "      <td>89900</td>\n",
              "      <td>48811.0</td>\n",
              "      <td>88934.0</td>\n",
              "      <td>15.0</td>\n",
              "      <td>0.0</td>\n",
              "      <td>0.0</td>\n",
              "      <td>219.601002</td>\n",
              "      <td>0.0</td>\n",
              "      <td>16.0</td>\n",
              "      <td>34.571519</td>\n",
              "      <td>1</td>\n",
              "      <td>0</td>\n",
              "      <td>0</td>\n",
              "      <td>0</td>\n",
              "      <td>1</td>\n",
              "      <td>0</td>\n",
              "      <td>0</td>\n",
              "      <td>0</td>\n",
              "    </tr>\n",
              "  </tbody>\n",
              "</table>\n",
              "<p>3364 rows × 19 columns</p>\n",
              "</div>\n",
              "      <button class=\"colab-df-convert\" onclick=\"convertToInteractive('df-25443cb9-f7d8-4cde-b415-26b305ea905c')\"\n",
              "              title=\"Convert this dataframe to an interactive table.\"\n",
              "              style=\"display:none;\">\n",
              "        \n",
              "  <svg xmlns=\"http://www.w3.org/2000/svg\" height=\"24px\"viewBox=\"0 0 24 24\"\n",
              "       width=\"24px\">\n",
              "    <path d=\"M0 0h24v24H0V0z\" fill=\"none\"/>\n",
              "    <path d=\"M18.56 5.44l.94 2.06.94-2.06 2.06-.94-2.06-.94-.94-2.06-.94 2.06-2.06.94zm-11 1L8.5 8.5l.94-2.06 2.06-.94-2.06-.94L8.5 2.5l-.94 2.06-2.06.94zm10 10l.94 2.06.94-2.06 2.06-.94-2.06-.94-.94-2.06-.94 2.06-2.06.94z\"/><path d=\"M17.41 7.96l-1.37-1.37c-.4-.4-.92-.59-1.43-.59-.52 0-1.04.2-1.43.59L10.3 9.45l-7.72 7.72c-.78.78-.78 2.05 0 2.83L4 21.41c.39.39.9.59 1.41.59.51 0 1.02-.2 1.41-.59l7.78-7.78 2.81-2.81c.8-.78.8-2.07 0-2.86zM5.41 20L4 18.59l7.72-7.72 1.47 1.35L5.41 20z\"/>\n",
              "  </svg>\n",
              "      </button>\n",
              "      \n",
              "  <style>\n",
              "    .colab-df-container {\n",
              "      display:flex;\n",
              "      flex-wrap:wrap;\n",
              "      gap: 12px;\n",
              "    }\n",
              "\n",
              "    .colab-df-convert {\n",
              "      background-color: #E8F0FE;\n",
              "      border: none;\n",
              "      border-radius: 50%;\n",
              "      cursor: pointer;\n",
              "      display: none;\n",
              "      fill: #1967D2;\n",
              "      height: 32px;\n",
              "      padding: 0 0 0 0;\n",
              "      width: 32px;\n",
              "    }\n",
              "\n",
              "    .colab-df-convert:hover {\n",
              "      background-color: #E2EBFA;\n",
              "      box-shadow: 0px 1px 2px rgba(60, 64, 67, 0.3), 0px 1px 3px 1px rgba(60, 64, 67, 0.15);\n",
              "      fill: #174EA6;\n",
              "    }\n",
              "\n",
              "    [theme=dark] .colab-df-convert {\n",
              "      background-color: #3B4455;\n",
              "      fill: #D2E3FC;\n",
              "    }\n",
              "\n",
              "    [theme=dark] .colab-df-convert:hover {\n",
              "      background-color: #434B5C;\n",
              "      box-shadow: 0px 1px 3px 1px rgba(0, 0, 0, 0.15);\n",
              "      filter: drop-shadow(0px 1px 2px rgba(0, 0, 0, 0.3));\n",
              "      fill: #FFFFFF;\n",
              "    }\n",
              "  </style>\n",
              "\n",
              "      <script>\n",
              "        const buttonEl =\n",
              "          document.querySelector('#df-25443cb9-f7d8-4cde-b415-26b305ea905c button.colab-df-convert');\n",
              "        buttonEl.style.display =\n",
              "          google.colab.kernel.accessAllowed ? 'block' : 'none';\n",
              "\n",
              "        async function convertToInteractive(key) {\n",
              "          const element = document.querySelector('#df-25443cb9-f7d8-4cde-b415-26b305ea905c');\n",
              "          const dataTable =\n",
              "            await google.colab.kernel.invokeFunction('convertToInteractive',\n",
              "                                                     [key], {});\n",
              "          if (!dataTable) return;\n",
              "\n",
              "          const docLinkHtml = 'Like what you see? Visit the ' +\n",
              "            '<a target=\"_blank\" href=https://colab.research.google.com/notebooks/data_table.ipynb>data table notebook</a>'\n",
              "            + ' to learn more about interactive tables.';\n",
              "          element.innerHTML = '';\n",
              "          dataTable['output_type'] = 'display_data';\n",
              "          await google.colab.output.renderOutput(dataTable, element);\n",
              "          const docLink = document.createElement('div');\n",
              "          docLink.innerHTML = docLinkHtml;\n",
              "          element.appendChild(docLink);\n",
              "        }\n",
              "      </script>\n",
              "    </div>\n",
              "  </div>\n",
              "  "
            ]
          },
          "metadata": {},
          "execution_count": 350
        }
      ]
    },
    {
      "cell_type": "code",
      "source": [
        "Y = file.get('BAD')\n",
        "Y"
      ],
      "metadata": {
        "colab": {
          "base_uri": "https://localhost:8080/"
        },
        "id": "J7FoOdFetaRu",
        "outputId": "cbdfe9a3-95fa-428d-9406-c66b7584a133"
      },
      "execution_count": 351,
      "outputs": [
        {
          "output_type": "execute_result",
          "data": {
            "text/plain": [
              "5       1\n",
              "7       1\n",
              "19      0\n",
              "25      1\n",
              "26      0\n",
              "       ..\n",
              "5955    0\n",
              "5956    0\n",
              "5957    0\n",
              "5958    0\n",
              "5959    0\n",
              "Name: BAD, Length: 3364, dtype: int64"
            ]
          },
          "metadata": {},
          "execution_count": 351
        }
      ]
    },
    {
      "cell_type": "code",
      "source": [
        "# delete the column 'BAD'\n",
        "del file['BAD']\n",
        "X= file"
      ],
      "metadata": {
        "id": "pOwB_z6lt-_Q"
      },
      "execution_count": 352,
      "outputs": []
    },
    {
      "cell_type": "code",
      "source": [
        "X"
      ],
      "metadata": {
        "colab": {
          "base_uri": "https://localhost:8080/",
          "height": 488
        },
        "id": "7GfwPoESumpN",
        "outputId": "cb06e2ca-b438-4b62-c348-54eece9a5019"
      },
      "execution_count": 353,
      "outputs": [
        {
          "output_type": "execute_result",
          "data": {
            "text/plain": [
              "       LOAN   MORTDUE     VALUE   YOJ  DEROG  DELINQ       CLAGE  NINQ  CLNO  \\\n",
              "5      1700   30548.0   40320.0   9.0    0.0     0.0  101.466002   1.0   8.0   \n",
              "7      1800   28502.0   43034.0  11.0    0.0     0.0   88.766030   0.0   8.0   \n",
              "19     2300  102370.0  120953.0   2.0    0.0     0.0   90.992533   0.0  13.0   \n",
              "25     2400   34863.0   47471.0  12.0    0.0     0.0   70.491080   1.0  21.0   \n",
              "26     2400   98449.0  117195.0   4.0    0.0     0.0   93.811775   0.0  13.0   \n",
              "...     ...       ...       ...   ...    ...     ...         ...   ...   ...   \n",
              "5955  88900   57264.0   90185.0  16.0    0.0     0.0  221.808718   0.0  16.0   \n",
              "5956  89000   54576.0   92937.0  16.0    0.0     0.0  208.692070   0.0  15.0   \n",
              "5957  89200   54045.0   92924.0  15.0    0.0     0.0  212.279697   0.0  15.0   \n",
              "5958  89800   50370.0   91861.0  14.0    0.0     0.0  213.892709   0.0  16.0   \n",
              "5959  89900   48811.0   88934.0  15.0    0.0     0.0  219.601002   0.0  16.0   \n",
              "\n",
              "        DEBTINC  REASON_DebtCon  REASON_HomeImp  JOB_Mgr  JOB_Office  \\\n",
              "5     37.113614               0               1        0           0   \n",
              "7     36.884894               0               1        0           0   \n",
              "19    31.588503               0               1        0           1   \n",
              "25    38.263601               0               1        1           0   \n",
              "26    29.681827               0               1        0           1   \n",
              "...         ...             ...             ...      ...         ...   \n",
              "5955  36.112347               1               0        0           0   \n",
              "5956  35.859971               1               0        0           0   \n",
              "5957  35.556590               1               0        0           0   \n",
              "5958  34.340882               1               0        0           0   \n",
              "5959  34.571519               1               0        0           0   \n",
              "\n",
              "      JOB_Other  JOB_ProfExe  JOB_Sales  JOB_Self  \n",
              "5             1            0          0         0  \n",
              "7             1            0          0         0  \n",
              "19            0            0          0         0  \n",
              "25            0            0          0         0  \n",
              "26            0            0          0         0  \n",
              "...         ...          ...        ...       ...  \n",
              "5955          1            0          0         0  \n",
              "5956          1            0          0         0  \n",
              "5957          1            0          0         0  \n",
              "5958          1            0          0         0  \n",
              "5959          1            0          0         0  \n",
              "\n",
              "[3364 rows x 18 columns]"
            ],
            "text/html": [
              "\n",
              "  <div id=\"df-12fcf12b-76e8-45ed-a13b-2ad44bc1788d\">\n",
              "    <div class=\"colab-df-container\">\n",
              "      <div>\n",
              "<style scoped>\n",
              "    .dataframe tbody tr th:only-of-type {\n",
              "        vertical-align: middle;\n",
              "    }\n",
              "\n",
              "    .dataframe tbody tr th {\n",
              "        vertical-align: top;\n",
              "    }\n",
              "\n",
              "    .dataframe thead th {\n",
              "        text-align: right;\n",
              "    }\n",
              "</style>\n",
              "<table border=\"1\" class=\"dataframe\">\n",
              "  <thead>\n",
              "    <tr style=\"text-align: right;\">\n",
              "      <th></th>\n",
              "      <th>LOAN</th>\n",
              "      <th>MORTDUE</th>\n",
              "      <th>VALUE</th>\n",
              "      <th>YOJ</th>\n",
              "      <th>DEROG</th>\n",
              "      <th>DELINQ</th>\n",
              "      <th>CLAGE</th>\n",
              "      <th>NINQ</th>\n",
              "      <th>CLNO</th>\n",
              "      <th>DEBTINC</th>\n",
              "      <th>REASON_DebtCon</th>\n",
              "      <th>REASON_HomeImp</th>\n",
              "      <th>JOB_Mgr</th>\n",
              "      <th>JOB_Office</th>\n",
              "      <th>JOB_Other</th>\n",
              "      <th>JOB_ProfExe</th>\n",
              "      <th>JOB_Sales</th>\n",
              "      <th>JOB_Self</th>\n",
              "    </tr>\n",
              "  </thead>\n",
              "  <tbody>\n",
              "    <tr>\n",
              "      <th>5</th>\n",
              "      <td>1700</td>\n",
              "      <td>30548.0</td>\n",
              "      <td>40320.0</td>\n",
              "      <td>9.0</td>\n",
              "      <td>0.0</td>\n",
              "      <td>0.0</td>\n",
              "      <td>101.466002</td>\n",
              "      <td>1.0</td>\n",
              "      <td>8.0</td>\n",
              "      <td>37.113614</td>\n",
              "      <td>0</td>\n",
              "      <td>1</td>\n",
              "      <td>0</td>\n",
              "      <td>0</td>\n",
              "      <td>1</td>\n",
              "      <td>0</td>\n",
              "      <td>0</td>\n",
              "      <td>0</td>\n",
              "    </tr>\n",
              "    <tr>\n",
              "      <th>7</th>\n",
              "      <td>1800</td>\n",
              "      <td>28502.0</td>\n",
              "      <td>43034.0</td>\n",
              "      <td>11.0</td>\n",
              "      <td>0.0</td>\n",
              "      <td>0.0</td>\n",
              "      <td>88.766030</td>\n",
              "      <td>0.0</td>\n",
              "      <td>8.0</td>\n",
              "      <td>36.884894</td>\n",
              "      <td>0</td>\n",
              "      <td>1</td>\n",
              "      <td>0</td>\n",
              "      <td>0</td>\n",
              "      <td>1</td>\n",
              "      <td>0</td>\n",
              "      <td>0</td>\n",
              "      <td>0</td>\n",
              "    </tr>\n",
              "    <tr>\n",
              "      <th>19</th>\n",
              "      <td>2300</td>\n",
              "      <td>102370.0</td>\n",
              "      <td>120953.0</td>\n",
              "      <td>2.0</td>\n",
              "      <td>0.0</td>\n",
              "      <td>0.0</td>\n",
              "      <td>90.992533</td>\n",
              "      <td>0.0</td>\n",
              "      <td>13.0</td>\n",
              "      <td>31.588503</td>\n",
              "      <td>0</td>\n",
              "      <td>1</td>\n",
              "      <td>0</td>\n",
              "      <td>1</td>\n",
              "      <td>0</td>\n",
              "      <td>0</td>\n",
              "      <td>0</td>\n",
              "      <td>0</td>\n",
              "    </tr>\n",
              "    <tr>\n",
              "      <th>25</th>\n",
              "      <td>2400</td>\n",
              "      <td>34863.0</td>\n",
              "      <td>47471.0</td>\n",
              "      <td>12.0</td>\n",
              "      <td>0.0</td>\n",
              "      <td>0.0</td>\n",
              "      <td>70.491080</td>\n",
              "      <td>1.0</td>\n",
              "      <td>21.0</td>\n",
              "      <td>38.263601</td>\n",
              "      <td>0</td>\n",
              "      <td>1</td>\n",
              "      <td>1</td>\n",
              "      <td>0</td>\n",
              "      <td>0</td>\n",
              "      <td>0</td>\n",
              "      <td>0</td>\n",
              "      <td>0</td>\n",
              "    </tr>\n",
              "    <tr>\n",
              "      <th>26</th>\n",
              "      <td>2400</td>\n",
              "      <td>98449.0</td>\n",
              "      <td>117195.0</td>\n",
              "      <td>4.0</td>\n",
              "      <td>0.0</td>\n",
              "      <td>0.0</td>\n",
              "      <td>93.811775</td>\n",
              "      <td>0.0</td>\n",
              "      <td>13.0</td>\n",
              "      <td>29.681827</td>\n",
              "      <td>0</td>\n",
              "      <td>1</td>\n",
              "      <td>0</td>\n",
              "      <td>1</td>\n",
              "      <td>0</td>\n",
              "      <td>0</td>\n",
              "      <td>0</td>\n",
              "      <td>0</td>\n",
              "    </tr>\n",
              "    <tr>\n",
              "      <th>...</th>\n",
              "      <td>...</td>\n",
              "      <td>...</td>\n",
              "      <td>...</td>\n",
              "      <td>...</td>\n",
              "      <td>...</td>\n",
              "      <td>...</td>\n",
              "      <td>...</td>\n",
              "      <td>...</td>\n",
              "      <td>...</td>\n",
              "      <td>...</td>\n",
              "      <td>...</td>\n",
              "      <td>...</td>\n",
              "      <td>...</td>\n",
              "      <td>...</td>\n",
              "      <td>...</td>\n",
              "      <td>...</td>\n",
              "      <td>...</td>\n",
              "      <td>...</td>\n",
              "    </tr>\n",
              "    <tr>\n",
              "      <th>5955</th>\n",
              "      <td>88900</td>\n",
              "      <td>57264.0</td>\n",
              "      <td>90185.0</td>\n",
              "      <td>16.0</td>\n",
              "      <td>0.0</td>\n",
              "      <td>0.0</td>\n",
              "      <td>221.808718</td>\n",
              "      <td>0.0</td>\n",
              "      <td>16.0</td>\n",
              "      <td>36.112347</td>\n",
              "      <td>1</td>\n",
              "      <td>0</td>\n",
              "      <td>0</td>\n",
              "      <td>0</td>\n",
              "      <td>1</td>\n",
              "      <td>0</td>\n",
              "      <td>0</td>\n",
              "      <td>0</td>\n",
              "    </tr>\n",
              "    <tr>\n",
              "      <th>5956</th>\n",
              "      <td>89000</td>\n",
              "      <td>54576.0</td>\n",
              "      <td>92937.0</td>\n",
              "      <td>16.0</td>\n",
              "      <td>0.0</td>\n",
              "      <td>0.0</td>\n",
              "      <td>208.692070</td>\n",
              "      <td>0.0</td>\n",
              "      <td>15.0</td>\n",
              "      <td>35.859971</td>\n",
              "      <td>1</td>\n",
              "      <td>0</td>\n",
              "      <td>0</td>\n",
              "      <td>0</td>\n",
              "      <td>1</td>\n",
              "      <td>0</td>\n",
              "      <td>0</td>\n",
              "      <td>0</td>\n",
              "    </tr>\n",
              "    <tr>\n",
              "      <th>5957</th>\n",
              "      <td>89200</td>\n",
              "      <td>54045.0</td>\n",
              "      <td>92924.0</td>\n",
              "      <td>15.0</td>\n",
              "      <td>0.0</td>\n",
              "      <td>0.0</td>\n",
              "      <td>212.279697</td>\n",
              "      <td>0.0</td>\n",
              "      <td>15.0</td>\n",
              "      <td>35.556590</td>\n",
              "      <td>1</td>\n",
              "      <td>0</td>\n",
              "      <td>0</td>\n",
              "      <td>0</td>\n",
              "      <td>1</td>\n",
              "      <td>0</td>\n",
              "      <td>0</td>\n",
              "      <td>0</td>\n",
              "    </tr>\n",
              "    <tr>\n",
              "      <th>5958</th>\n",
              "      <td>89800</td>\n",
              "      <td>50370.0</td>\n",
              "      <td>91861.0</td>\n",
              "      <td>14.0</td>\n",
              "      <td>0.0</td>\n",
              "      <td>0.0</td>\n",
              "      <td>213.892709</td>\n",
              "      <td>0.0</td>\n",
              "      <td>16.0</td>\n",
              "      <td>34.340882</td>\n",
              "      <td>1</td>\n",
              "      <td>0</td>\n",
              "      <td>0</td>\n",
              "      <td>0</td>\n",
              "      <td>1</td>\n",
              "      <td>0</td>\n",
              "      <td>0</td>\n",
              "      <td>0</td>\n",
              "    </tr>\n",
              "    <tr>\n",
              "      <th>5959</th>\n",
              "      <td>89900</td>\n",
              "      <td>48811.0</td>\n",
              "      <td>88934.0</td>\n",
              "      <td>15.0</td>\n",
              "      <td>0.0</td>\n",
              "      <td>0.0</td>\n",
              "      <td>219.601002</td>\n",
              "      <td>0.0</td>\n",
              "      <td>16.0</td>\n",
              "      <td>34.571519</td>\n",
              "      <td>1</td>\n",
              "      <td>0</td>\n",
              "      <td>0</td>\n",
              "      <td>0</td>\n",
              "      <td>1</td>\n",
              "      <td>0</td>\n",
              "      <td>0</td>\n",
              "      <td>0</td>\n",
              "    </tr>\n",
              "  </tbody>\n",
              "</table>\n",
              "<p>3364 rows × 18 columns</p>\n",
              "</div>\n",
              "      <button class=\"colab-df-convert\" onclick=\"convertToInteractive('df-12fcf12b-76e8-45ed-a13b-2ad44bc1788d')\"\n",
              "              title=\"Convert this dataframe to an interactive table.\"\n",
              "              style=\"display:none;\">\n",
              "        \n",
              "  <svg xmlns=\"http://www.w3.org/2000/svg\" height=\"24px\"viewBox=\"0 0 24 24\"\n",
              "       width=\"24px\">\n",
              "    <path d=\"M0 0h24v24H0V0z\" fill=\"none\"/>\n",
              "    <path d=\"M18.56 5.44l.94 2.06.94-2.06 2.06-.94-2.06-.94-.94-2.06-.94 2.06-2.06.94zm-11 1L8.5 8.5l.94-2.06 2.06-.94-2.06-.94L8.5 2.5l-.94 2.06-2.06.94zm10 10l.94 2.06.94-2.06 2.06-.94-2.06-.94-.94-2.06-.94 2.06-2.06.94z\"/><path d=\"M17.41 7.96l-1.37-1.37c-.4-.4-.92-.59-1.43-.59-.52 0-1.04.2-1.43.59L10.3 9.45l-7.72 7.72c-.78.78-.78 2.05 0 2.83L4 21.41c.39.39.9.59 1.41.59.51 0 1.02-.2 1.41-.59l7.78-7.78 2.81-2.81c.8-.78.8-2.07 0-2.86zM5.41 20L4 18.59l7.72-7.72 1.47 1.35L5.41 20z\"/>\n",
              "  </svg>\n",
              "      </button>\n",
              "      \n",
              "  <style>\n",
              "    .colab-df-container {\n",
              "      display:flex;\n",
              "      flex-wrap:wrap;\n",
              "      gap: 12px;\n",
              "    }\n",
              "\n",
              "    .colab-df-convert {\n",
              "      background-color: #E8F0FE;\n",
              "      border: none;\n",
              "      border-radius: 50%;\n",
              "      cursor: pointer;\n",
              "      display: none;\n",
              "      fill: #1967D2;\n",
              "      height: 32px;\n",
              "      padding: 0 0 0 0;\n",
              "      width: 32px;\n",
              "    }\n",
              "\n",
              "    .colab-df-convert:hover {\n",
              "      background-color: #E2EBFA;\n",
              "      box-shadow: 0px 1px 2px rgba(60, 64, 67, 0.3), 0px 1px 3px 1px rgba(60, 64, 67, 0.15);\n",
              "      fill: #174EA6;\n",
              "    }\n",
              "\n",
              "    [theme=dark] .colab-df-convert {\n",
              "      background-color: #3B4455;\n",
              "      fill: #D2E3FC;\n",
              "    }\n",
              "\n",
              "    [theme=dark] .colab-df-convert:hover {\n",
              "      background-color: #434B5C;\n",
              "      box-shadow: 0px 1px 3px 1px rgba(0, 0, 0, 0.15);\n",
              "      filter: drop-shadow(0px 1px 2px rgba(0, 0, 0, 0.3));\n",
              "      fill: #FFFFFF;\n",
              "    }\n",
              "  </style>\n",
              "\n",
              "      <script>\n",
              "        const buttonEl =\n",
              "          document.querySelector('#df-12fcf12b-76e8-45ed-a13b-2ad44bc1788d button.colab-df-convert');\n",
              "        buttonEl.style.display =\n",
              "          google.colab.kernel.accessAllowed ? 'block' : 'none';\n",
              "\n",
              "        async function convertToInteractive(key) {\n",
              "          const element = document.querySelector('#df-12fcf12b-76e8-45ed-a13b-2ad44bc1788d');\n",
              "          const dataTable =\n",
              "            await google.colab.kernel.invokeFunction('convertToInteractive',\n",
              "                                                     [key], {});\n",
              "          if (!dataTable) return;\n",
              "\n",
              "          const docLinkHtml = 'Like what you see? Visit the ' +\n",
              "            '<a target=\"_blank\" href=https://colab.research.google.com/notebooks/data_table.ipynb>data table notebook</a>'\n",
              "            + ' to learn more about interactive tables.';\n",
              "          element.innerHTML = '';\n",
              "          dataTable['output_type'] = 'display_data';\n",
              "          await google.colab.output.renderOutput(dataTable, element);\n",
              "          const docLink = document.createElement('div');\n",
              "          docLink.innerHTML = docLinkHtml;\n",
              "          element.appendChild(docLink);\n",
              "        }\n",
              "      </script>\n",
              "    </div>\n",
              "  </div>\n",
              "  "
            ]
          },
          "metadata": {},
          "execution_count": 353
        }
      ]
    },
    {
      "cell_type": "markdown",
      "source": [
        "**Decision Tree Classifier**"
      ],
      "metadata": {
        "id": "uL3-p10_rChY"
      }
    },
    {
      "cell_type": "code",
      "source": [
        "from sklearn.tree import DecisionTreeClassifier\n",
        "from sklearn.metrics import confusion_matrix\n",
        "from sklearn.metrics import *"
      ],
      "metadata": {
        "id": "MjJapY_JrJR8"
      },
      "execution_count": 354,
      "outputs": []
    },
    {
      "cell_type": "markdown",
      "source": [
        "We split  data into two pieces training data 67%  and testing data 33%"
      ],
      "metadata": {
        "id": "PEIEzkwRVpXX"
      }
    },
    {
      "cell_type": "code",
      "source": [
        "from sklearn.model_selection import train_test_split"
      ],
      "metadata": {
        "id": "OXG8Ous6YjF-"
      },
      "execution_count": 355,
      "outputs": []
    },
    {
      "cell_type": "code",
      "source": [
        "X_train, X_test,Y_train,Y_test = train_test_split(X,Y, test_size=0.33)"
      ],
      "metadata": {
        "id": "ur_tnZQTYwLW"
      },
      "execution_count": 356,
      "outputs": []
    },
    {
      "cell_type": "code",
      "source": [
        "len(Y_train) "
      ],
      "metadata": {
        "colab": {
          "base_uri": "https://localhost:8080/"
        },
        "id": "6rzvW-J_ZDOI",
        "outputId": "09adf23c-df8f-47cb-9833-091cd231c1e4"
      },
      "execution_count": 357,
      "outputs": [
        {
          "output_type": "execute_result",
          "data": {
            "text/plain": [
              "2253"
            ]
          },
          "metadata": {},
          "execution_count": 357
        }
      ]
    },
    {
      "cell_type": "code",
      "source": [
        "len(Y_test)"
      ],
      "metadata": {
        "colab": {
          "base_uri": "https://localhost:8080/"
        },
        "id": "ZVY08b9meDAH",
        "outputId": "f6e81c9b-bfec-4cd4-b4fd-7181fd351045"
      },
      "execution_count": 358,
      "outputs": [
        {
          "output_type": "execute_result",
          "data": {
            "text/plain": [
              "1111"
            ]
          },
          "metadata": {},
          "execution_count": 358
        }
      ]
    },
    {
      "cell_type": "code",
      "source": [
        "clf_gini = DecisionTreeClassifier(criterion=\"gini\")"
      ],
      "metadata": {
        "id": "DQXJnJdEZ4i1"
      },
      "execution_count": 359,
      "outputs": []
    },
    {
      "cell_type": "code",
      "source": [
        "clf_gini.fit(X_train,Y_train)"
      ],
      "metadata": {
        "colab": {
          "base_uri": "https://localhost:8080/"
        },
        "id": "Tb7IRnHDvCAl",
        "outputId": "6ea54b36-b327-4cd1-e09f-cbbcc9f1f939"
      },
      "execution_count": 360,
      "outputs": [
        {
          "output_type": "execute_result",
          "data": {
            "text/plain": [
              "DecisionTreeClassifier()"
            ]
          },
          "metadata": {},
          "execution_count": 360
        }
      ]
    },
    {
      "cell_type": "code",
      "source": [
        "clf_entropy = DecisionTreeClassifier(criterion=\"entropy\")"
      ],
      "metadata": {
        "id": "gsigUOxDvM_1"
      },
      "execution_count": 361,
      "outputs": []
    },
    {
      "cell_type": "code",
      "source": [
        "clf_entropy.fit(X_train,Y_train)"
      ],
      "metadata": {
        "colab": {
          "base_uri": "https://localhost:8080/"
        },
        "id": "tfw66hXfvSFV",
        "outputId": "0da69337-57ed-4800-86cf-eebf26c60f32"
      },
      "execution_count": 362,
      "outputs": [
        {
          "output_type": "execute_result",
          "data": {
            "text/plain": [
              "DecisionTreeClassifier(criterion='entropy')"
            ]
          },
          "metadata": {},
          "execution_count": 362
        }
      ]
    },
    {
      "cell_type": "code",
      "source": [
        "print(\"\\n//////////////// Result Using Gini Index //////////////////////\\n\")\n",
        "Y_pred_gini = clf_gini.predict(X_test)\n",
        "print(\"Confusion Matrix\",confusion_matrix(Y_test,Y_pred_gini)*100)\n",
        "print(X_test,Y_test,Y_pred_gini)\n",
        "print(\"Accuracy: \",accuracy_score(Y_test,Y_pred_gini)*100)\n",
        "print(\"\\n///////////////// Result Using Entropy //////////////////////\\n\")\n",
        "Y_pred_entropy = clf_entropy.predict(X_test)\n",
        "print(\"Confusion Matrix\",confusion_matrix(Y_test,Y_pred_entropy)*100)\n",
        "print(X_test,Y_test,Y_pred_entropy)\n",
        "print(\"Accuracy: \",accuracy_score(Y_test,Y_pred_entropy)*100)"
      ],
      "metadata": {
        "colab": {
          "base_uri": "https://localhost:8080/"
        },
        "id": "_lGOcvNsvjL6",
        "outputId": "48d97586-2ae7-4156-be08-52f10f223ea4"
      },
      "execution_count": 363,
      "outputs": [
        {
          "output_type": "stream",
          "name": "stdout",
          "text": [
            "\n",
            "//////////////// Result Using Gini Index //////////////////////\n",
            "\n",
            "Confusion Matrix [[98100  3000]\n",
            " [ 4600  5400]]\n",
            "       LOAN   MORTDUE     VALUE   YOJ  DEROG  DELINQ       CLAGE  NINQ  CLNO  \\\n",
            "5550  35200  239987.0   43028.0   2.0    0.0     1.0  210.189005   3.0  49.0   \n",
            "2196  13600   58539.0   67899.0  29.0    1.0     2.0  194.273834   1.0  23.0   \n",
            "4718  25000   60504.0   93907.0   1.0    0.0     0.0   99.993715   0.0  23.0   \n",
            "612    7700   76056.0   83643.0  22.0    0.0     0.0  353.195628   0.0  47.0   \n",
            "5032  26700   18590.0   53462.0  25.0    0.0     0.0  111.995571   1.0  11.0   \n",
            "...     ...       ...       ...   ...    ...     ...         ...   ...   ...   \n",
            "3496  18400   75491.0  101745.0   0.0    0.0     0.0  279.370051   1.0  20.0   \n",
            "134    4900   58688.0   63348.0   9.0    0.0     3.0  179.162575   2.0  31.0   \n",
            "501    7000   64255.0   68389.0   4.0    0.0     0.0   80.152431   2.0  19.0   \n",
            "5129  27500  131269.0  211014.0  10.0    0.0     0.0  234.351289   2.0  26.0   \n",
            "1377  10700   59588.0   69166.0   6.0    0.0     0.0  133.906505   0.0  17.0   \n",
            "\n",
            "        DEBTINC  REASON_DebtCon  REASON_HomeImp  JOB_Mgr  JOB_Office  \\\n",
            "5550  41.336627               1               0        1           0   \n",
            "2196  37.134422               0               1        0           0   \n",
            "4718  33.490354               1               0        0           1   \n",
            "612   28.544529               0               1        0           0   \n",
            "5032  22.959807               1               0        0           0   \n",
            "...         ...             ...             ...      ...         ...   \n",
            "3496  38.750300               1               0        0           0   \n",
            "134   22.544393               1               0        0           0   \n",
            "501   40.561861               0               1        0           0   \n",
            "5129  18.735147               1               0        0           0   \n",
            "1377  36.180858               0               1        0           0   \n",
            "\n",
            "      JOB_Other  JOB_ProfExe  JOB_Sales  JOB_Self  \n",
            "5550          0            0          0         0  \n",
            "2196          1            0          0         0  \n",
            "4718          0            0          0         0  \n",
            "612           1            0          0         0  \n",
            "5032          1            0          0         0  \n",
            "...         ...          ...        ...       ...  \n",
            "3496          0            1          0         0  \n",
            "134           0            1          0         0  \n",
            "501           1            0          0         0  \n",
            "5129          0            1          0         0  \n",
            "1377          1            0          0         0  \n",
            "\n",
            "[1111 rows x 18 columns] 5550    0\n",
            "2196    0\n",
            "4718    0\n",
            "612     0\n",
            "5032    0\n",
            "       ..\n",
            "3496    0\n",
            "134     0\n",
            "501     0\n",
            "5129    0\n",
            "1377    0\n",
            "Name: BAD, Length: 1111, dtype: int64 [0 0 0 ... 0 0 0]\n",
            "Accuracy:  93.15931593159316\n",
            "\n",
            "///////////////// Result Using Entropy //////////////////////\n",
            "\n",
            "Confusion Matrix [[98000  3100]\n",
            " [ 4800  5200]]\n",
            "       LOAN   MORTDUE     VALUE   YOJ  DEROG  DELINQ       CLAGE  NINQ  CLNO  \\\n",
            "5550  35200  239987.0   43028.0   2.0    0.0     1.0  210.189005   3.0  49.0   \n",
            "2196  13600   58539.0   67899.0  29.0    1.0     2.0  194.273834   1.0  23.0   \n",
            "4718  25000   60504.0   93907.0   1.0    0.0     0.0   99.993715   0.0  23.0   \n",
            "612    7700   76056.0   83643.0  22.0    0.0     0.0  353.195628   0.0  47.0   \n",
            "5032  26700   18590.0   53462.0  25.0    0.0     0.0  111.995571   1.0  11.0   \n",
            "...     ...       ...       ...   ...    ...     ...         ...   ...   ...   \n",
            "3496  18400   75491.0  101745.0   0.0    0.0     0.0  279.370051   1.0  20.0   \n",
            "134    4900   58688.0   63348.0   9.0    0.0     3.0  179.162575   2.0  31.0   \n",
            "501    7000   64255.0   68389.0   4.0    0.0     0.0   80.152431   2.0  19.0   \n",
            "5129  27500  131269.0  211014.0  10.0    0.0     0.0  234.351289   2.0  26.0   \n",
            "1377  10700   59588.0   69166.0   6.0    0.0     0.0  133.906505   0.0  17.0   \n",
            "\n",
            "        DEBTINC  REASON_DebtCon  REASON_HomeImp  JOB_Mgr  JOB_Office  \\\n",
            "5550  41.336627               1               0        1           0   \n",
            "2196  37.134422               0               1        0           0   \n",
            "4718  33.490354               1               0        0           1   \n",
            "612   28.544529               0               1        0           0   \n",
            "5032  22.959807               1               0        0           0   \n",
            "...         ...             ...             ...      ...         ...   \n",
            "3496  38.750300               1               0        0           0   \n",
            "134   22.544393               1               0        0           0   \n",
            "501   40.561861               0               1        0           0   \n",
            "5129  18.735147               1               0        0           0   \n",
            "1377  36.180858               0               1        0           0   \n",
            "\n",
            "      JOB_Other  JOB_ProfExe  JOB_Sales  JOB_Self  \n",
            "5550          0            0          0         0  \n",
            "2196          1            0          0         0  \n",
            "4718          0            0          0         0  \n",
            "612           1            0          0         0  \n",
            "5032          1            0          0         0  \n",
            "...         ...          ...        ...       ...  \n",
            "3496          0            1          0         0  \n",
            "134           0            1          0         0  \n",
            "501           1            0          0         0  \n",
            "5129          0            1          0         0  \n",
            "1377          1            0          0         0  \n",
            "\n",
            "[1111 rows x 18 columns] 5550    0\n",
            "2196    0\n",
            "4718    0\n",
            "612     0\n",
            "5032    0\n",
            "       ..\n",
            "3496    0\n",
            "134     0\n",
            "501     0\n",
            "5129    0\n",
            "1377    0\n",
            "Name: BAD, Length: 1111, dtype: int64 [0 0 0 ... 0 0 0]\n",
            "Accuracy:  92.88928892889288\n"
          ]
        }
      ]
    }
  ]
}